{
 "cells": [
  {
   "cell_type": "markdown",
   "id": "b1784936-0631-462d-a944-d26cb1181ff2",
   "metadata": {},
   "source": [
    "#### <p style=\"font-family:JetBrains Mono; font-weight:bold; letter-spacing: 2px; color:#006600; font-size:140%; text-align:left;padding: 0px; border-bottom: 3px solid #003300\"> 🎫  APP BEHAVIOUR ANALYSIS</p>\n",
    "<img src = \"https://secure2.sfdcstatic.com/assets/images/hub/analytics/mobile-analytics-tools/mobile-analytics-header.jpg\" align=\"center\" width=700 />\n"
   ]
  },
  {
   "cell_type": "markdown",
   "id": "26c4124b-b3ed-4f2e-9213-cfe78f8b3326",
   "metadata": {},
   "source": [
    "### Table of Contents\n",
    "\n",
    "1  Goal Of The Project\n",
    "\n",
    "2  Data Overview\n",
    "\n",
    "3  Importing the libraries\n",
    "\n",
    "4  Read The Data\n",
    "\n",
    "5  EDA\n",
    "\n",
    "6  Feature Engineering - Time between signup and enrollment\n",
    "\n",
    "7  Feature Engineering - Screens Accessed\n",
    "\n",
    "8  Data Preprocessing\n",
    "\n",
    "9.1  Creating Train/Test SplitsGoal Of The ProjectGoal Of The ProjectGoal Of The ProjectGoal Of The Project\n",
    "\n",
    "9.2  Feature Scaling\n",
    "\n",
    "10  Model Building\n",
    "\n",
    "11  Presenting Final Results\n",
    "\n",
    "12  Conclusion"
   ]
  },
  {
   "cell_type": "markdown",
   "id": "5fe0aec9-28ca-4ddc-b15f-640631d10e2f",
   "metadata": {},
   "source": [
    "##### <p style=\"font-family:JetBrains Mono; font-weight:bold; letter-spacing: 2px; color:#006600; font-size:140%; text-align:left;padding: 0px; border-bottom: 3px solid #003300\"> 🎫 Goal Of The Project </p>\n",
    "The provided dataset is from a fintech company that offers a mobile app with both free and subscription versions. The paid version grants users access to all their financial information in one place. Upon joining the app, users receive the paid version for free on the first day. The objective of this project is to develop a classification model to predict which users will enroll in the paid subscription and which will not.\n",
    "\n",
    "The company has provided two datasets. The first dataset (appdata10) contains information about all the features of the app that users utilized. The second dataset (top_screens) provides information about the top screens visited by users.\n"
   ]
  },
  {
   "cell_type": "markdown",
   "id": "2515d44a-74dd-4b3e-bdbd-d245d35a069d",
   "metadata": {},
   "source": [
    "##### <p style=\"font-family:JetBrains Mono; font-weight:bold; letter-spacing: 2px; color:#006600; font-size:140%; text-align:left;padding: 0px; border-bottom: 3px solid #003300\"> 🎫  Data Overview</p>\n",
    "We have access to each customer's app behavior data, which includes the date and time of app installation, as well as the features the user engaged with in the app. App behavior is characterized by the list of app screens the user viewed and whether the user played any financial mini-games available.\n",
    "\n",
    "The app usage data is limited to the user's first day in the app. This limitation exists because users can enjoy a 24-hour free trial of the premium features, and the company aims to target them with new offers shortly after the trial ends.\n",
    "\n",
    "The data fields we'll be working with are as follows:\n",
    "\n",
    "1.User: The first column, 'user,' serves as the user identifier. In some cases, it might be an email ID, but in this case, it is a numerical ID representing a specific user.\n",
    "\n",
    "2.First_open: The second column, 'first_open,' specifies the date and time when the user first opened the app.\n",
    "\n",
    "3.Day of the week: It represents the day of the week, with 0 indicating Sunday and 6 indicating Saturday.\n",
    "\n",
    "4.Hour: It indicates the hour of the day when the user first opened the app.\n",
    "\n",
    "5.Age: It denotes the age of the user.\n",
    "\n",
    "6.Screen list: This column is perhaps the most crucial feature in this case study. It describes every single screen that the user accessed within those 24 hours.\n",
    "\n",
    "7.Num_screens: It represents the total number of screens that appear in the 'screen list' column.\n",
    "\n",
    "8.Mini_game: The app features a mini-game that is free to play. If the player engages with the mini-game within the first 24 hours, they receive a 1; otherwise, they receive a 0.\n",
    "\n",
    "9.Like: If the user likes any feature, they receive a 1; otherwise, they receive a 0.\n",
    "\n",
    "10.Used premium feature: If the user has used a premium feature, they receive a 1; otherwise, they receive a 0.\n",
    "\n",
    "11.Enrolled: If the user continues to use the product after the free trial, they receive a 1; otherwise, they receive a 0.\n",
    "\n",
    "12.Enrolled date: This column provides the date of enrollment."
   ]
  },
  {
   "cell_type": "markdown",
   "id": "4d73a194-f1b6-44c7-85eb-c5df9879c86f",
   "metadata": {},
   "source": [
    "## Importing The Libraries"
   ]
  },
  {
   "cell_type": "code",
   "execution_count": 1,
   "id": "2a4bf3a7-365d-4f0a-9dbf-e4b0d1d5dfac",
   "metadata": {},
   "outputs": [
    {
     "name": "stdout",
     "output_type": "stream",
     "text": [
      "✅ Libraries imported successfully\n"
     ]
    }
   ],
   "source": [
    "import pandas as pd\n",
    "import numpy as np\n",
    "import matplotlib.pyplot as plt\n",
    "%matplotlib inline\n",
    "import seaborn as sns\n",
    "from dateutil import parser  #convert time in date time data type\n",
    "print(\"✅ Libraries imported successfully\")"
   ]
  },
  {
   "cell_type": "markdown",
   "id": "891b4aab-5129-45ec-9bea-9d81119c4b08",
   "metadata": {},
   "source": [
    "## About Data:\n",
    "- Read data\n",
    "- Shape of data\n",
    "- Head of data\n",
    "- Data info\n",
    "- Data describe\n",
    "- Data Columns\n",
    "- Checking null values\n",
    "\n"
   ]
  },
  {
   "cell_type": "markdown",
   "id": "24a31344-0989-4540-bb70-98764fd3cdfb",
   "metadata": {},
   "source": [
    "### Read the Data"
   ]
  },
  {
   "cell_type": "code",
   "execution_count": 2,
   "id": "6fd3d35f-3b52-4d41-a423-89b3cb1dacab",
   "metadata": {},
   "outputs": [],
   "source": [
    "\n",
    "df=pd.read_csv(\"appdata10.csv\")"
   ]
  },
  {
   "cell_type": "markdown",
   "id": "34b13511-1a23-4384-ad09-e2b4aabdf7e3",
   "metadata": {},
   "source": [
    "### Shape of data"
   ]
  },
  {
   "cell_type": "code",
   "execution_count": null,
   "id": "e3336a08-054e-48c9-b1d8-588f59fd2f9e",
   "metadata": {},
   "outputs": [],
   "source": [
    " \n",
    "df.shape"
   ]
  },
  {
   "cell_type": "markdown",
   "id": "a3abb446-6eb1-4d82-a765-59c449df78df",
   "metadata": {},
   "source": [
    "### Head of the data"
   ]
  },
  {
   "cell_type": "code",
   "execution_count": 4,
   "id": "070fe911-21ba-43d5-8b67-7bc1b21c0768",
   "metadata": {},
   "outputs": [
    {
     "data": {
      "text/html": [
       "<div>\n",
       "<style scoped>\n",
       "    .dataframe tbody tr th:only-of-type {\n",
       "        vertical-align: middle;\n",
       "    }\n",
       "\n",
       "    .dataframe tbody tr th {\n",
       "        vertical-align: top;\n",
       "    }\n",
       "\n",
       "    .dataframe thead th {\n",
       "        text-align: right;\n",
       "    }\n",
       "</style>\n",
       "<table border=\"1\" class=\"dataframe\">\n",
       "  <thead>\n",
       "    <tr style=\"text-align: right;\">\n",
       "      <th></th>\n",
       "      <th>user</th>\n",
       "      <th>first_open</th>\n",
       "      <th>dayofweek</th>\n",
       "      <th>hour</th>\n",
       "      <th>age</th>\n",
       "      <th>screen_list</th>\n",
       "      <th>numscreens</th>\n",
       "      <th>minigame</th>\n",
       "      <th>used_premium_feature</th>\n",
       "      <th>enrolled</th>\n",
       "      <th>enrolled_date</th>\n",
       "      <th>liked</th>\n",
       "    </tr>\n",
       "  </thead>\n",
       "  <tbody>\n",
       "    <tr>\n",
       "      <th>0</th>\n",
       "      <td>235136</td>\n",
       "      <td>2012-12-27 02:14:51.273</td>\n",
       "      <td>3</td>\n",
       "      <td>02:00:00</td>\n",
       "      <td>23</td>\n",
       "      <td>idscreen,joinscreen,Cycle,product_review,ScanP...</td>\n",
       "      <td>15</td>\n",
       "      <td>0</td>\n",
       "      <td>0</td>\n",
       "      <td>0</td>\n",
       "      <td>NaN</td>\n",
       "      <td>0</td>\n",
       "    </tr>\n",
       "    <tr>\n",
       "      <th>1</th>\n",
       "      <td>333588</td>\n",
       "      <td>2012-12-02 01:16:00.905</td>\n",
       "      <td>6</td>\n",
       "      <td>01:00:00</td>\n",
       "      <td>24</td>\n",
       "      <td>joinscreen,product_review,product_review2,Scan...</td>\n",
       "      <td>13</td>\n",
       "      <td>0</td>\n",
       "      <td>0</td>\n",
       "      <td>0</td>\n",
       "      <td>NaN</td>\n",
       "      <td>0</td>\n",
       "    </tr>\n",
       "    <tr>\n",
       "      <th>2</th>\n",
       "      <td>254414</td>\n",
       "      <td>2013-03-19 19:19:09.157</td>\n",
       "      <td>1</td>\n",
       "      <td>19:00:00</td>\n",
       "      <td>23</td>\n",
       "      <td>Splash,Cycle,Loan</td>\n",
       "      <td>3</td>\n",
       "      <td>0</td>\n",
       "      <td>1</td>\n",
       "      <td>0</td>\n",
       "      <td>NaN</td>\n",
       "      <td>1</td>\n",
       "    </tr>\n",
       "    <tr>\n",
       "      <th>3</th>\n",
       "      <td>234192</td>\n",
       "      <td>2013-07-05 16:08:46.354</td>\n",
       "      <td>4</td>\n",
       "      <td>16:00:00</td>\n",
       "      <td>28</td>\n",
       "      <td>product_review,Home,product_review,Loan3,Finan...</td>\n",
       "      <td>40</td>\n",
       "      <td>0</td>\n",
       "      <td>0</td>\n",
       "      <td>1</td>\n",
       "      <td>2013-07-05 16:11:49.513</td>\n",
       "      <td>0</td>\n",
       "    </tr>\n",
       "    <tr>\n",
       "      <th>4</th>\n",
       "      <td>51549</td>\n",
       "      <td>2013-02-26 18:50:48.661</td>\n",
       "      <td>1</td>\n",
       "      <td>18:00:00</td>\n",
       "      <td>31</td>\n",
       "      <td>idscreen,joinscreen,Cycle,Credit3Container,Sca...</td>\n",
       "      <td>32</td>\n",
       "      <td>0</td>\n",
       "      <td>0</td>\n",
       "      <td>1</td>\n",
       "      <td>2013-02-26 18:56:37.841</td>\n",
       "      <td>1</td>\n",
       "    </tr>\n",
       "  </tbody>\n",
       "</table>\n",
       "</div>"
      ],
      "text/plain": [
       "     user               first_open  dayofweek       hour  age  \\\n",
       "0  235136  2012-12-27 02:14:51.273          3   02:00:00   23   \n",
       "1  333588  2012-12-02 01:16:00.905          6   01:00:00   24   \n",
       "2  254414  2013-03-19 19:19:09.157          1   19:00:00   23   \n",
       "3  234192  2013-07-05 16:08:46.354          4   16:00:00   28   \n",
       "4   51549  2013-02-26 18:50:48.661          1   18:00:00   31   \n",
       "\n",
       "                                         screen_list  numscreens  minigame  \\\n",
       "0  idscreen,joinscreen,Cycle,product_review,ScanP...          15         0   \n",
       "1  joinscreen,product_review,product_review2,Scan...          13         0   \n",
       "2                                  Splash,Cycle,Loan           3         0   \n",
       "3  product_review,Home,product_review,Loan3,Finan...          40         0   \n",
       "4  idscreen,joinscreen,Cycle,Credit3Container,Sca...          32         0   \n",
       "\n",
       "   used_premium_feature  enrolled            enrolled_date  liked  \n",
       "0                     0         0                      NaN      0  \n",
       "1                     0         0                      NaN      0  \n",
       "2                     1         0                      NaN      1  \n",
       "3                     0         1  2013-07-05 16:11:49.513      0  \n",
       "4                     0         1  2013-02-26 18:56:37.841      1  "
      ]
     },
     "execution_count": 4,
     "metadata": {},
     "output_type": "execute_result"
    }
   ],
   "source": [
    "\n",
    "df.head() "
   ]
  },
  {
   "cell_type": "markdown",
   "id": "4e8a3fc0-7634-4f46-8de3-b503848dc2dc",
   "metadata": {},
   "source": [
    "### Data Info "
   ]
  },
  {
   "cell_type": "code",
   "execution_count": 5,
   "id": "445e7208-81e8-4ef5-be46-a4e12af04b91",
   "metadata": {},
   "outputs": [
    {
     "name": "stdout",
     "output_type": "stream",
     "text": [
      "<class 'pandas.core.frame.DataFrame'>\n",
      "RangeIndex: 50000 entries, 0 to 49999\n",
      "Data columns (total 12 columns):\n",
      " #   Column                Non-Null Count  Dtype \n",
      "---  ------                --------------  ----- \n",
      " 0   user                  50000 non-null  int64 \n",
      " 1   first_open            50000 non-null  object\n",
      " 2   dayofweek             50000 non-null  int64 \n",
      " 3   hour                  50000 non-null  object\n",
      " 4   age                   50000 non-null  int64 \n",
      " 5   screen_list           50000 non-null  object\n",
      " 6   numscreens            50000 non-null  int64 \n",
      " 7   minigame              50000 non-null  int64 \n",
      " 8   used_premium_feature  50000 non-null  int64 \n",
      " 9   enrolled              50000 non-null  int64 \n",
      " 10  enrolled_date         31074 non-null  object\n",
      " 11  liked                 50000 non-null  int64 \n",
      "dtypes: int64(8), object(4)\n",
      "memory usage: 4.6+ MB\n"
     ]
    }
   ],
   "source": [
    "df.info()"
   ]
  },
  {
   "cell_type": "markdown",
   "id": "badf3060-6870-4db1-a43b-ac1881c16861",
   "metadata": {},
   "source": [
    "### Data describe"
   ]
  },
  {
   "cell_type": "code",
   "execution_count": 6,
   "id": "2375ed49-7a27-43f8-99d2-0819d6d56fa2",
   "metadata": {},
   "outputs": [
    {
     "data": {
      "text/html": [
       "<div>\n",
       "<style scoped>\n",
       "    .dataframe tbody tr th:only-of-type {\n",
       "        vertical-align: middle;\n",
       "    }\n",
       "\n",
       "    .dataframe tbody tr th {\n",
       "        vertical-align: top;\n",
       "    }\n",
       "\n",
       "    .dataframe thead th {\n",
       "        text-align: right;\n",
       "    }\n",
       "</style>\n",
       "<table border=\"1\" class=\"dataframe\">\n",
       "  <thead>\n",
       "    <tr style=\"text-align: right;\">\n",
       "      <th></th>\n",
       "      <th>user</th>\n",
       "      <th>dayofweek</th>\n",
       "      <th>age</th>\n",
       "      <th>numscreens</th>\n",
       "      <th>minigame</th>\n",
       "      <th>used_premium_feature</th>\n",
       "      <th>enrolled</th>\n",
       "      <th>liked</th>\n",
       "    </tr>\n",
       "  </thead>\n",
       "  <tbody>\n",
       "    <tr>\n",
       "      <th>count</th>\n",
       "      <td>50000.000000</td>\n",
       "      <td>50000.000000</td>\n",
       "      <td>50000.00000</td>\n",
       "      <td>50000.000000</td>\n",
       "      <td>50000.000000</td>\n",
       "      <td>50000.000000</td>\n",
       "      <td>50000.000000</td>\n",
       "      <td>50000.000000</td>\n",
       "    </tr>\n",
       "    <tr>\n",
       "      <th>mean</th>\n",
       "      <td>186889.729900</td>\n",
       "      <td>3.029860</td>\n",
       "      <td>31.72436</td>\n",
       "      <td>21.095900</td>\n",
       "      <td>0.107820</td>\n",
       "      <td>0.172020</td>\n",
       "      <td>0.621480</td>\n",
       "      <td>0.165000</td>\n",
       "    </tr>\n",
       "    <tr>\n",
       "      <th>std</th>\n",
       "      <td>107768.520361</td>\n",
       "      <td>2.031997</td>\n",
       "      <td>10.80331</td>\n",
       "      <td>15.728812</td>\n",
       "      <td>0.310156</td>\n",
       "      <td>0.377402</td>\n",
       "      <td>0.485023</td>\n",
       "      <td>0.371184</td>\n",
       "    </tr>\n",
       "    <tr>\n",
       "      <th>min</th>\n",
       "      <td>13.000000</td>\n",
       "      <td>0.000000</td>\n",
       "      <td>16.00000</td>\n",
       "      <td>1.000000</td>\n",
       "      <td>0.000000</td>\n",
       "      <td>0.000000</td>\n",
       "      <td>0.000000</td>\n",
       "      <td>0.000000</td>\n",
       "    </tr>\n",
       "    <tr>\n",
       "      <th>25%</th>\n",
       "      <td>93526.750000</td>\n",
       "      <td>1.000000</td>\n",
       "      <td>24.00000</td>\n",
       "      <td>10.000000</td>\n",
       "      <td>0.000000</td>\n",
       "      <td>0.000000</td>\n",
       "      <td>0.000000</td>\n",
       "      <td>0.000000</td>\n",
       "    </tr>\n",
       "    <tr>\n",
       "      <th>50%</th>\n",
       "      <td>187193.500000</td>\n",
       "      <td>3.000000</td>\n",
       "      <td>29.00000</td>\n",
       "      <td>18.000000</td>\n",
       "      <td>0.000000</td>\n",
       "      <td>0.000000</td>\n",
       "      <td>1.000000</td>\n",
       "      <td>0.000000</td>\n",
       "    </tr>\n",
       "    <tr>\n",
       "      <th>75%</th>\n",
       "      <td>279984.250000</td>\n",
       "      <td>5.000000</td>\n",
       "      <td>37.00000</td>\n",
       "      <td>28.000000</td>\n",
       "      <td>0.000000</td>\n",
       "      <td>0.000000</td>\n",
       "      <td>1.000000</td>\n",
       "      <td>0.000000</td>\n",
       "    </tr>\n",
       "    <tr>\n",
       "      <th>max</th>\n",
       "      <td>373662.000000</td>\n",
       "      <td>6.000000</td>\n",
       "      <td>101.00000</td>\n",
       "      <td>325.000000</td>\n",
       "      <td>1.000000</td>\n",
       "      <td>1.000000</td>\n",
       "      <td>1.000000</td>\n",
       "      <td>1.000000</td>\n",
       "    </tr>\n",
       "  </tbody>\n",
       "</table>\n",
       "</div>"
      ],
      "text/plain": [
       "                user     dayofweek          age    numscreens      minigame  \\\n",
       "count   50000.000000  50000.000000  50000.00000  50000.000000  50000.000000   \n",
       "mean   186889.729900      3.029860     31.72436     21.095900      0.107820   \n",
       "std    107768.520361      2.031997     10.80331     15.728812      0.310156   \n",
       "min        13.000000      0.000000     16.00000      1.000000      0.000000   \n",
       "25%     93526.750000      1.000000     24.00000     10.000000      0.000000   \n",
       "50%    187193.500000      3.000000     29.00000     18.000000      0.000000   \n",
       "75%    279984.250000      5.000000     37.00000     28.000000      0.000000   \n",
       "max    373662.000000      6.000000    101.00000    325.000000      1.000000   \n",
       "\n",
       "       used_premium_feature      enrolled         liked  \n",
       "count          50000.000000  50000.000000  50000.000000  \n",
       "mean               0.172020      0.621480      0.165000  \n",
       "std                0.377402      0.485023      0.371184  \n",
       "min                0.000000      0.000000      0.000000  \n",
       "25%                0.000000      0.000000      0.000000  \n",
       "50%                0.000000      1.000000      0.000000  \n",
       "75%                0.000000      1.000000      0.000000  \n",
       "max                1.000000      1.000000      1.000000  "
      ]
     },
     "execution_count": 6,
     "metadata": {},
     "output_type": "execute_result"
    }
   ],
   "source": [
    "df.describe()"
   ]
  },
  {
   "cell_type": "markdown",
   "id": "387d73ee-2d78-4369-8fcc-8e88bf712ca2",
   "metadata": {},
   "source": [
    "### Data Columns"
   ]
  },
  {
   "cell_type": "code",
   "execution_count": 7,
   "id": "adc1336d-9083-4a9f-a2e9-937045e4fd09",
   "metadata": {},
   "outputs": [
    {
     "data": {
      "text/plain": [
       "Index(['user', 'first_open', 'dayofweek', 'hour', 'age', 'screen_list',\n",
       "       'numscreens', 'minigame', 'used_premium_feature', 'enrolled',\n",
       "       'enrolled_date', 'liked'],\n",
       "      dtype='object')"
      ]
     },
     "execution_count": 7,
     "metadata": {},
     "output_type": "execute_result"
    }
   ],
   "source": [
    "df.columns"
   ]
  },
  {
   "cell_type": "markdown",
   "id": "1968310c-f059-4b33-87d7-7bcf7bffc0be",
   "metadata": {},
   "source": [
    "### Checking the null values"
   ]
  },
  {
   "cell_type": "code",
   "execution_count": 8,
   "id": "b36d718f-7458-464e-bb14-532f8fa88d1a",
   "metadata": {},
   "outputs": [
    {
     "data": {
      "text/plain": [
       "user                        0\n",
       "first_open                  0\n",
       "dayofweek                   0\n",
       "hour                        0\n",
       "age                         0\n",
       "screen_list                 0\n",
       "numscreens                  0\n",
       "minigame                    0\n",
       "used_premium_feature        0\n",
       "enrolled                    0\n",
       "enrolled_date           18926\n",
       "liked                       0\n",
       "dtype: int64"
      ]
     },
     "execution_count": 8,
     "metadata": {},
     "output_type": "execute_result"
    }
   ],
   "source": [
    "\n",
    "df.isnull().sum()"
   ]
  },
  {
   "cell_type": "markdown",
   "id": "25155180-774c-49ad-abc3-683f2b9774cb",
   "metadata": {},
   "source": [
    "### Data unique value"
   ]
  },
  {
   "cell_type": "code",
   "execution_count": 9,
   "id": "d7c733b1-89c1-4bb1-a557-0e652cf3a898",
   "metadata": {},
   "outputs": [
    {
     "name": "stdout",
     "output_type": "stream",
     "text": [
      "Unique value of user\n",
      "[235136 333588 254414 ... 302367 324905  27047]\n",
      "len is 49874\n",
      "\n",
      "Unique value of first_open\n",
      "['2012-12-27 02:14:51.273' '2012-12-02 01:16:00.905'\n",
      " '2013-03-19 19:19:09.157' ... '2013-02-20 22:41:51.165'\n",
      " '2013-04-28 12:33:04.288' '2012-12-14 01:22:44.638']\n",
      "len is 49747\n",
      "\n",
      "Unique value of dayofweek\n",
      "[3 6 1 4 2 0 5]\n",
      "len is 7\n",
      "\n",
      "Unique value of hour\n",
      "[' 02:00:00' ' 01:00:00' ' 19:00:00' ' 16:00:00' ' 18:00:00' ' 09:00:00'\n",
      " ' 03:00:00' ' 14:00:00' ' 04:00:00' ' 11:00:00' ' 06:00:00' ' 21:00:00'\n",
      " ' 05:00:00' ' 17:00:00' ' 20:00:00' ' 00:00:00' ' 22:00:00' ' 10:00:00'\n",
      " ' 08:00:00' ' 15:00:00' ' 13:00:00' ' 23:00:00' ' 12:00:00' ' 07:00:00']\n",
      "len is 24\n",
      "\n",
      "Unique value of age\n",
      "[ 23  24  28  31  20  35  26  29  39  32  25  17  21  55  38  27  48  37\n",
      "  22  36  30  58  40  33  57  19  45  34  46  56  42  43  41  47  18  53\n",
      "  44  49  60  50  52  62  63  16  54  70  51  69  68  59  76  75  66  61\n",
      "  72  65  90  64  67  73  77  71  74  89  78  86  80  82  79  87  81  85\n",
      " 101  88  83 100  84  98]\n",
      "len is 78\n",
      "\n",
      "Unique value of screen_list\n",
      "['idscreen,joinscreen,Cycle,product_review,ScanPreview,VerifyDateOfBirth,VerifyPhone,VerifyToken,ProfileVerifySSN,Loan2,Settings,ForgotPassword,Login'\n",
      " 'joinscreen,product_review,product_review2,ScanPreview,VerifyDateOfBirth,location,VerifyCountry,VerifyPhone,VerifyToken,Institutions,Loan2'\n",
      " 'Splash,Cycle,Loan' ...\n",
      " 'joinscreen,product_review,product_review2,ScanPreview,VerifyCountry,VerifyPhone,VerifyToken,VerifyDateOfBirth,location,Home'\n",
      " 'Cycle,Home,product_review,product_review,product_review3,ScanPreview,VerifyDateOfBirth,location,VerifyCountry,VerifyPhone,VerifyToken,product_review,product_review,VerifySSN,product_review,SelectInstitution,BankVerification,product_review,product_review'\n",
      " 'product_review,ScanPreview,VerifyDateOfBirth,VerifyCountry,ProfileVerifySSN,ProfilePage,ProfileEducation,ProfileEducationMajor,Saving2Amount,Saving8,ProfileMaritalStatus,ProfileChildren,Saving2,Saving9,Saving7,Saving6,Saving5,Home,Loan2']\n",
      "len is 38799\n",
      "\n",
      "Unique value of numscreens\n",
      "[ 15  13   3  40  32  14  41  33  19  25  11   4   9  26   6  20   5   8\n",
      "  42   1  38  49  35  10  52  50  76  37  16  47  90  24  45  31  39  17\n",
      "  28  27  57  23  21  12   7  18  48  29 136  34  59  89  22  43  36  56\n",
      "  30   2  44  92  51  70  58  66  46  55  61  75  71  78  85  62  53  54\n",
      "  73  68  69  63  64  88 106  80 127  74  72 137  83  77  65 104  60  67\n",
      "  94  81 110  91  82  96 165  79  86 116  99  98 187  84 111 109 107 162\n",
      "  97 100  95  87 122 216 115 102 128 234 112 108 114 125 119  93 185 192\n",
      " 189 153 243 103 101 118 325 141 129 133 126 120 123 134 121 105 113 117\n",
      " 200 247 179 132 144 130 148]\n",
      "len is 151\n",
      "\n",
      "Unique value of minigame\n",
      "[0 1]\n",
      "len is 2\n",
      "\n",
      "Unique value of used_premium_feature\n",
      "[0 1]\n",
      "len is 2\n",
      "\n",
      "Unique value of enrolled\n",
      "[0 1]\n",
      "len is 2\n",
      "\n",
      "Unique value of enrolled_date\n",
      "[nan '2013-07-05 16:11:49.513' '2013-02-26 18:56:37.841' ...\n",
      " '2013-02-25 19:36:56.082' '2013-05-09 13:47:52.875'\n",
      " '2013-04-28 12:35:38.709']\n",
      "len is 31002\n",
      "\n",
      "Unique value of liked\n",
      "[0 1]\n",
      "len is 2\n",
      "\n"
     ]
    }
   ],
   "source": [
    "\n",
    "features=df.columns\n",
    "for i in features:\n",
    "    print(\"\"\"Unique value of {}\\n{}\\nlen is {}\\n\"\"\".format(i,df[i].unique(),len(df[i].unique())))"
   ]
  },
  {
   "cell_type": "code",
   "execution_count": 10,
   "id": "c3a38144-3a69-4d4f-ae91-3a30f6805918",
   "metadata": {},
   "outputs": [
    {
     "data": {
      "text/plain": [
       "23     2348\n",
       "25     2339\n",
       "26     2301\n",
       "24     2298\n",
       "22     2222\n",
       "       ... \n",
       "89        2\n",
       "79        1\n",
       "101       1\n",
       "88        1\n",
       "98        1\n",
       "Name: age, Length: 78, dtype: int64"
      ]
     },
     "execution_count": 10,
     "metadata": {},
     "output_type": "execute_result"
    }
   ],
   "source": [
    "df['age'].value_counts()"
   ]
  },
  {
   "cell_type": "markdown",
   "id": "21a7e0f0-cd03-4307-b27d-6c8c9b4a938e",
   "metadata": {},
   "source": [
    "## Exploratory Data Analysis"
   ]
  },
  {
   "cell_type": "markdown",
   "id": "02691089-6a4f-4f13-bfcf-c02cbb6f2aaf",
   "metadata": {},
   "source": [
    "### Converting time from object to an integer"
   ]
  },
  {
   "cell_type": "code",
   "execution_count": 11,
   "id": "fe7bd6e3-a6cf-4121-a4c8-ca73199ad797",
   "metadata": {},
   "outputs": [],
   "source": [
    "df['hour'] = df.hour.str.slice(1,3).astype(int)"
   ]
  },
  {
   "cell_type": "code",
   "execution_count": 12,
   "id": "7589ce0a-214d-4224-8125-36df6e8c3c72",
   "metadata": {},
   "outputs": [],
   "source": [
    "df['open_year'] = df.first_open.str.slice(0,4).astype(int)"
   ]
  },
  {
   "cell_type": "code",
   "execution_count": 13,
   "id": "38214d00-62bd-44cd-93b7-c5aa90d60cee",
   "metadata": {},
   "outputs": [
    {
     "data": {
      "text/html": [
       "<div>\n",
       "<style scoped>\n",
       "    .dataframe tbody tr th:only-of-type {\n",
       "        vertical-align: middle;\n",
       "    }\n",
       "\n",
       "    .dataframe tbody tr th {\n",
       "        vertical-align: top;\n",
       "    }\n",
       "\n",
       "    .dataframe thead th {\n",
       "        text-align: right;\n",
       "    }\n",
       "</style>\n",
       "<table border=\"1\" class=\"dataframe\">\n",
       "  <thead>\n",
       "    <tr style=\"text-align: right;\">\n",
       "      <th></th>\n",
       "      <th>user</th>\n",
       "      <th>first_open</th>\n",
       "      <th>dayofweek</th>\n",
       "      <th>hour</th>\n",
       "      <th>age</th>\n",
       "      <th>screen_list</th>\n",
       "      <th>numscreens</th>\n",
       "      <th>minigame</th>\n",
       "      <th>used_premium_feature</th>\n",
       "      <th>enrolled</th>\n",
       "      <th>enrolled_date</th>\n",
       "      <th>liked</th>\n",
       "      <th>open_year</th>\n",
       "    </tr>\n",
       "  </thead>\n",
       "  <tbody>\n",
       "    <tr>\n",
       "      <th>0</th>\n",
       "      <td>235136</td>\n",
       "      <td>2012-12-27 02:14:51.273</td>\n",
       "      <td>3</td>\n",
       "      <td>2</td>\n",
       "      <td>23</td>\n",
       "      <td>idscreen,joinscreen,Cycle,product_review,ScanP...</td>\n",
       "      <td>15</td>\n",
       "      <td>0</td>\n",
       "      <td>0</td>\n",
       "      <td>0</td>\n",
       "      <td>NaN</td>\n",
       "      <td>0</td>\n",
       "      <td>2012</td>\n",
       "    </tr>\n",
       "    <tr>\n",
       "      <th>1</th>\n",
       "      <td>333588</td>\n",
       "      <td>2012-12-02 01:16:00.905</td>\n",
       "      <td>6</td>\n",
       "      <td>1</td>\n",
       "      <td>24</td>\n",
       "      <td>joinscreen,product_review,product_review2,Scan...</td>\n",
       "      <td>13</td>\n",
       "      <td>0</td>\n",
       "      <td>0</td>\n",
       "      <td>0</td>\n",
       "      <td>NaN</td>\n",
       "      <td>0</td>\n",
       "      <td>2012</td>\n",
       "    </tr>\n",
       "    <tr>\n",
       "      <th>2</th>\n",
       "      <td>254414</td>\n",
       "      <td>2013-03-19 19:19:09.157</td>\n",
       "      <td>1</td>\n",
       "      <td>19</td>\n",
       "      <td>23</td>\n",
       "      <td>Splash,Cycle,Loan</td>\n",
       "      <td>3</td>\n",
       "      <td>0</td>\n",
       "      <td>1</td>\n",
       "      <td>0</td>\n",
       "      <td>NaN</td>\n",
       "      <td>1</td>\n",
       "      <td>2013</td>\n",
       "    </tr>\n",
       "    <tr>\n",
       "      <th>3</th>\n",
       "      <td>234192</td>\n",
       "      <td>2013-07-05 16:08:46.354</td>\n",
       "      <td>4</td>\n",
       "      <td>16</td>\n",
       "      <td>28</td>\n",
       "      <td>product_review,Home,product_review,Loan3,Finan...</td>\n",
       "      <td>40</td>\n",
       "      <td>0</td>\n",
       "      <td>0</td>\n",
       "      <td>1</td>\n",
       "      <td>2013-07-05 16:11:49.513</td>\n",
       "      <td>0</td>\n",
       "      <td>2013</td>\n",
       "    </tr>\n",
       "    <tr>\n",
       "      <th>4</th>\n",
       "      <td>51549</td>\n",
       "      <td>2013-02-26 18:50:48.661</td>\n",
       "      <td>1</td>\n",
       "      <td>18</td>\n",
       "      <td>31</td>\n",
       "      <td>idscreen,joinscreen,Cycle,Credit3Container,Sca...</td>\n",
       "      <td>32</td>\n",
       "      <td>0</td>\n",
       "      <td>0</td>\n",
       "      <td>1</td>\n",
       "      <td>2013-02-26 18:56:37.841</td>\n",
       "      <td>1</td>\n",
       "      <td>2013</td>\n",
       "    </tr>\n",
       "    <tr>\n",
       "      <th>...</th>\n",
       "      <td>...</td>\n",
       "      <td>...</td>\n",
       "      <td>...</td>\n",
       "      <td>...</td>\n",
       "      <td>...</td>\n",
       "      <td>...</td>\n",
       "      <td>...</td>\n",
       "      <td>...</td>\n",
       "      <td>...</td>\n",
       "      <td>...</td>\n",
       "      <td>...</td>\n",
       "      <td>...</td>\n",
       "      <td>...</td>\n",
       "    </tr>\n",
       "    <tr>\n",
       "      <th>49995</th>\n",
       "      <td>222774</td>\n",
       "      <td>2013-05-09 13:46:17.871</td>\n",
       "      <td>3</td>\n",
       "      <td>13</td>\n",
       "      <td>32</td>\n",
       "      <td>Splash,Home,ScanPreview,VerifyPhone,VerifySSN,...</td>\n",
       "      <td>13</td>\n",
       "      <td>0</td>\n",
       "      <td>0</td>\n",
       "      <td>1</td>\n",
       "      <td>2013-05-09 13:47:52.875</td>\n",
       "      <td>0</td>\n",
       "      <td>2013</td>\n",
       "    </tr>\n",
       "    <tr>\n",
       "      <th>49996</th>\n",
       "      <td>169179</td>\n",
       "      <td>2013-04-09 00:05:17.823</td>\n",
       "      <td>1</td>\n",
       "      <td>0</td>\n",
       "      <td>35</td>\n",
       "      <td>Cycle,Splash,Home,RewardsContainer</td>\n",
       "      <td>4</td>\n",
       "      <td>0</td>\n",
       "      <td>1</td>\n",
       "      <td>0</td>\n",
       "      <td>NaN</td>\n",
       "      <td>0</td>\n",
       "      <td>2013</td>\n",
       "    </tr>\n",
       "    <tr>\n",
       "      <th>49997</th>\n",
       "      <td>302367</td>\n",
       "      <td>2013-02-20 22:41:51.165</td>\n",
       "      <td>2</td>\n",
       "      <td>22</td>\n",
       "      <td>39</td>\n",
       "      <td>joinscreen,product_review,product_review2,Scan...</td>\n",
       "      <td>25</td>\n",
       "      <td>0</td>\n",
       "      <td>0</td>\n",
       "      <td>0</td>\n",
       "      <td>NaN</td>\n",
       "      <td>0</td>\n",
       "      <td>2013</td>\n",
       "    </tr>\n",
       "    <tr>\n",
       "      <th>49998</th>\n",
       "      <td>324905</td>\n",
       "      <td>2013-04-28 12:33:04.288</td>\n",
       "      <td>6</td>\n",
       "      <td>12</td>\n",
       "      <td>27</td>\n",
       "      <td>Cycle,Home,product_review,product_review,produ...</td>\n",
       "      <td>26</td>\n",
       "      <td>0</td>\n",
       "      <td>0</td>\n",
       "      <td>1</td>\n",
       "      <td>2013-04-28 12:35:38.709</td>\n",
       "      <td>0</td>\n",
       "      <td>2013</td>\n",
       "    </tr>\n",
       "    <tr>\n",
       "      <th>49999</th>\n",
       "      <td>27047</td>\n",
       "      <td>2012-12-14 01:22:44.638</td>\n",
       "      <td>4</td>\n",
       "      <td>1</td>\n",
       "      <td>25</td>\n",
       "      <td>product_review,ScanPreview,VerifyDateOfBirth,V...</td>\n",
       "      <td>26</td>\n",
       "      <td>0</td>\n",
       "      <td>0</td>\n",
       "      <td>0</td>\n",
       "      <td>NaN</td>\n",
       "      <td>1</td>\n",
       "      <td>2012</td>\n",
       "    </tr>\n",
       "  </tbody>\n",
       "</table>\n",
       "<p>50000 rows × 13 columns</p>\n",
       "</div>"
      ],
      "text/plain": [
       "         user               first_open  dayofweek  hour  age  \\\n",
       "0      235136  2012-12-27 02:14:51.273          3     2   23   \n",
       "1      333588  2012-12-02 01:16:00.905          6     1   24   \n",
       "2      254414  2013-03-19 19:19:09.157          1    19   23   \n",
       "3      234192  2013-07-05 16:08:46.354          4    16   28   \n",
       "4       51549  2013-02-26 18:50:48.661          1    18   31   \n",
       "...       ...                      ...        ...   ...  ...   \n",
       "49995  222774  2013-05-09 13:46:17.871          3    13   32   \n",
       "49996  169179  2013-04-09 00:05:17.823          1     0   35   \n",
       "49997  302367  2013-02-20 22:41:51.165          2    22   39   \n",
       "49998  324905  2013-04-28 12:33:04.288          6    12   27   \n",
       "49999   27047  2012-12-14 01:22:44.638          4     1   25   \n",
       "\n",
       "                                             screen_list  numscreens  \\\n",
       "0      idscreen,joinscreen,Cycle,product_review,ScanP...          15   \n",
       "1      joinscreen,product_review,product_review2,Scan...          13   \n",
       "2                                      Splash,Cycle,Loan           3   \n",
       "3      product_review,Home,product_review,Loan3,Finan...          40   \n",
       "4      idscreen,joinscreen,Cycle,Credit3Container,Sca...          32   \n",
       "...                                                  ...         ...   \n",
       "49995  Splash,Home,ScanPreview,VerifyPhone,VerifySSN,...          13   \n",
       "49996                 Cycle,Splash,Home,RewardsContainer           4   \n",
       "49997  joinscreen,product_review,product_review2,Scan...          25   \n",
       "49998  Cycle,Home,product_review,product_review,produ...          26   \n",
       "49999  product_review,ScanPreview,VerifyDateOfBirth,V...          26   \n",
       "\n",
       "       minigame  used_premium_feature  enrolled            enrolled_date  \\\n",
       "0             0                     0         0                      NaN   \n",
       "1             0                     0         0                      NaN   \n",
       "2             0                     1         0                      NaN   \n",
       "3             0                     0         1  2013-07-05 16:11:49.513   \n",
       "4             0                     0         1  2013-02-26 18:56:37.841   \n",
       "...         ...                   ...       ...                      ...   \n",
       "49995         0                     0         1  2013-05-09 13:47:52.875   \n",
       "49996         0                     1         0                      NaN   \n",
       "49997         0                     0         0                      NaN   \n",
       "49998         0                     0         1  2013-04-28 12:35:38.709   \n",
       "49999         0                     0         0                      NaN   \n",
       "\n",
       "       liked  open_year  \n",
       "0          0       2012  \n",
       "1          0       2012  \n",
       "2          1       2013  \n",
       "3          0       2013  \n",
       "4          1       2013  \n",
       "...      ...        ...  \n",
       "49995      0       2013  \n",
       "49996      0       2013  \n",
       "49997      0       2013  \n",
       "49998      0       2013  \n",
       "49999      1       2012  \n",
       "\n",
       "[50000 rows x 13 columns]"
      ]
     },
     "execution_count": 13,
     "metadata": {},
     "output_type": "execute_result"
    }
   ],
   "source": [
    "df"
   ]
  },
  {
   "cell_type": "code",
   "execution_count": 14,
   "id": "708397f4-c31a-4ae7-9db0-8eb4d4ac4755",
   "metadata": {},
   "outputs": [
    {
     "data": {
      "text/plain": [
       "<Axes: xlabel='used_premium_feature', ylabel='count'>"
      ]
     },
     "execution_count": 14,
     "metadata": {},
     "output_type": "execute_result"
    },
    {
     "data": {
      "image/png": "[encoded data removed]",
      "text/plain": [
       "<Figure size 640x480 with 1 Axes>"
      ]
     },
     "metadata": {},
     "output_type": "display_data"
    }
   ],
   "source": [
    "sns.countplot(df,x=\"used_premium_feature\",hue=\"enrolled\")"
   ]
  },
  {
   "cell_type": "code",
   "execution_count": 15,
   "id": "8fb5696e-84f5-461a-9bcc-18ec611d30c0",
   "metadata": {},
   "outputs": [
    {
     "name": "stdout",
     "output_type": "stream",
     "text": [
      "Not used preminum feature Users= 41399 out of 50000\n",
      "used preminum feature Users= 8601 out of 50000\n"
     ]
    }
   ],
   "source": [
    "print('Not used preminum feature Users=',(df.used_premium_feature <1).sum(),'out of 50000')\n",
    "print('used preminum feature Users=',50000-(df.used_premium_feature<1).sum(),'out of 50000')"
   ]
  },
  {
   "cell_type": "code",
   "execution_count": 16,
   "id": "cecae27e-65be-487d-91cb-6b35ad3fca27",
   "metadata": {},
   "outputs": [
    {
     "data": {
      "text/plain": [
       "Text(0.5, 1.0, 'enrolled Ratio')"
      ]
     },
     "execution_count": 16,
     "metadata": {},
     "output_type": "execute_result"
    },
    {
     "data": {
      "image/png": "[encoded data removed]",
      "text/plain": [
       "<Figure size 500x500 with 1 Axes>"
      ]
     },
     "metadata": {},
     "output_type": "display_data"
    }
   ],
   "source": [
    "plt.figure(figsize=(5,5))\n",
    "plt.rcParams['font.size'] = 11\n",
    "data = df[\"enrolled\"].value_counts()\n",
    "plt.pie(data,labels=data.index,autopct='%1.1f%%')\n",
    "plt.title('enrolled Ratio',fontdict={'fontsize': 16})"
   ]
  },
  {
   "cell_type": "code",
   "execution_count": 17,
   "id": "7506cd12-b319-4235-8b7f-9be94c3ac513",
   "metadata": {},
   "outputs": [
    {
     "data": {
      "text/plain": [
       "<Axes: xlabel='enrolled', ylabel='count'>"
      ]
     },
     "execution_count": 17,
     "metadata": {},
     "output_type": "execute_result"
    },
    {
     "data": {
      "image/png": "[encoded data removed]",
      "text/plain": [
       "<Figure size 640x480 with 1 Axes>"
      ]
     },
     "metadata": {},
     "output_type": "display_data"
    }
   ],
   "source": [
    "sns.countplot(df,x=\"enrolled\")"
   ]
  },
  {
   "cell_type": "code",
   "execution_count": 18,
   "id": "9928b42c-9659-4891-9d28-c248c88c5131",
   "metadata": {},
   "outputs": [
    {
     "name": "stdout",
     "output_type": "stream",
     "text": [
      "Not Enrolled Users= 18926 out of 50000\n",
      "Enrolled Users= 31074 out of 50000\n"
     ]
    }
   ],
   "source": [
    "print('Not Enrolled Users=',(df.enrolled <1).sum(),'out of 50000')\n",
    "print('Enrolled Users=',50000-(df.enrolled <1).sum(),'out of 50000')"
   ]
  },
  {
   "cell_type": "code",
   "execution_count": 19,
   "id": "8076f6c9-7e35-4cc5-bcf3-0e8314223757",
   "metadata": {},
   "outputs": [
    {
     "data": {
      "text/plain": [
       "<Axes: xlabel='minigame', ylabel='count'>"
      ]
     },
     "execution_count": 19,
     "metadata": {},
     "output_type": "execute_result"
    },
    {
     "data": {
      "image/png": "[encoded data removed]",
      "text/plain": [
       "<Figure size 640x480 with 1 Axes>"
      ]
     },
     "metadata": {},
     "output_type": "display_data"
    }
   ],
   "source": [
    "sns.countplot(df,x=\"minigame\",hue=\"enrolled\")"
   ]
  },
  {
   "cell_type": "code",
   "execution_count": 20,
   "id": "b1a35521-34a4-426e-b85e-5890d30d9f99",
   "metadata": {},
   "outputs": [
    {
     "data": {
      "text/plain": [
       "<Axes: xlabel='liked', ylabel='count'>"
      ]
     },
     "execution_count": 20,
     "metadata": {},
     "output_type": "execute_result"
    },
    {
     "data": {
      "image/png": "[encoded data removed]",
      "text/plain": [
       "<Figure size 640x480 with 1 Axes>"
      ]
     },
     "metadata": {},
     "output_type": "display_data"
    }
   ],
   "source": [
    "sns.countplot(df,x=\"liked\")"
   ]
  },
  {
   "cell_type": "code",
   "execution_count": 21,
   "id": "6f0e831d-3cc4-4f1f-95fc-d38c0881daff",
   "metadata": {},
   "outputs": [
    {
     "data": {
      "text/plain": [
       "<Axes: xlabel='liked', ylabel='count'>"
      ]
     },
     "execution_count": 21,
     "metadata": {},
     "output_type": "execute_result"
    },
    {
     "data": {
      "image/png": "[encoded data removed]",
      "text/plain": [
       "<Figure size 640x480 with 1 Axes>"
      ]
     },
     "metadata": {},
     "output_type": "display_data"
    }
   ],
   "source": [
    "sns.countplot(df,x=\"liked\",hue=\"enrolled\")"
   ]
  },
  {
   "cell_type": "code",
   "execution_count": 22,
   "id": "d8cf2081-2a45-4bec-9370-5739f865304a",
   "metadata": {},
   "outputs": [
    {
     "data": {
      "text/plain": [
       "<Axes: xlabel='open_year', ylabel='count'>"
      ]
     },
     "execution_count": 22,
     "metadata": {},
     "output_type": "execute_result"
    },
    {
     "data": {
      "image/png": "[encoded data removed]",
      "text/plain": [
       "<Figure size 640x480 with 1 Axes>"
      ]
     },
     "metadata": {},
     "output_type": "display_data"
    }
   ],
   "source": [
    "sns.countplot(df,x=\"open_year\",hue=\"enrolled\")"
   ]
  },
  {
   "cell_type": "code",
   "execution_count": 23,
   "id": "c69e2eac-9418-4f87-b97e-27fb8392f929",
   "metadata": {
    "tags": []
   },
   "outputs": [],
   "source": [
    "df.drop(columns='open_year',inplace=True)"
   ]
  },
  {
   "cell_type": "markdown",
   "id": "2868c20e-08f2-44f8-bb50-bc5a59c61348",
   "metadata": {},
   "source": [
    "#### Creating a copy of dataset and dropping columns"
   ]
  },
  {
   "cell_type": "code",
   "execution_count": 24,
   "id": "daae942e-7d25-42f1-be4d-d2c4cd50f876",
   "metadata": {},
   "outputs": [],
   "source": [
    "new_df=df.drop(['user','first_open','screen_list'\n",
    "                ,'enrolled_date'],axis=1)"
   ]
  },
  {
   "cell_type": "markdown",
   "id": "d3e00c08-6ad2-4e03-a703-b49b5fb0f8c6",
   "metadata": {},
   "source": [
    "### Heatmap"
   ]
  },
  {
   "cell_type": "code",
   "execution_count": 25,
   "id": "f91324fc-e638-4cc2-b1a8-e2ed42ea049c",
   "metadata": {},
   "outputs": [
    {
     "data": {
      "text/plain": [
       "Text(0.5, 1.0, 'Heatmap using correlation matrix of new_df')"
      ]
     },
     "execution_count": 25,
     "metadata": {},
     "output_type": "execute_result"
    },
    {
     "data": {
      "image/png": "[encoded data removed]",
      "text/plain": [
       "<Figure size 1600x900 with 2 Axes>"
      ]
     },
     "metadata": {},
     "output_type": "display_data"
    }
   ],
   "source": [
    "plt.figure(figsize=(16,9))\n",
    "sns.heatmap(new_df.corr(),annot=True,cmap='coolwarm')\n",
    "plt.title('Heatmap using correlation matrix of new_df',fontsize=26)"
   ]
  },
  {
   "cell_type": "markdown",
   "id": "f193d977-d4de-4d64-b33a-add34547a41d",
   "metadata": {},
   "source": [
    "The heatmap correlation illustrates the relationships between features. The graph above not only indicates positive or negative relationships but also quantifies the strength of these relationships. A very high positive or negative number indicates the extent to which the features are correlated, either positively or inversely. For example, the relationship between the number of screens and age is indicated as -0.13, signifying an inverse correlation with a relatively strong strength. Conversely, enrollment shows a positive correlation of 0.21 with the number of screens."
   ]
  },
  {
   "cell_type": "code",
   "execution_count": 26,
   "id": "8b5f06f1-2aa3-4614-80f3-d17ffbbefff0",
   "metadata": {},
   "outputs": [],
   "source": [
    "#sns.pairplot(new_df,hue='enrolled')"
   ]
  },
  {
   "cell_type": "markdown",
   "id": "86583928-ad5d-4162-88ec-5ac2c6025b65",
   "metadata": {},
   "source": [
    "### Plotting Histogram for exploartion"
   ]
  },
  {
   "cell_type": "code",
   "execution_count": 27,
   "id": "c63a1e38-3bee-48ca-9be4-d56f333f2a0d",
   "metadata": {},
   "outputs": [
    {
     "data": {
      "image/png": "[encoded data removed]",
      "text/plain": [
       "<Figure size 1600x900 with 8 Axes>"
      ]
     },
     "metadata": {},
     "output_type": "display_data"
    }
   ],
   "source": [
    "plt.figure(figsize=(16,9))\n",
    "features=new_df.columns\n",
    "for i,j in enumerate(features):\n",
    "    plt.subplot(3,3,i+1)\n",
    "    plt.title('Histogram of {}'.format(j),fontsize=15)\n",
    "    bins=len(new_df[j].unique())\n",
    "    plt.hist(df[j],bins=bins,rwidth=0.8,edgecolor='y',linewidth=3,)\n",
    "plt.subplots_adjust(hspace=0.5)"
   ]
  },
  {
   "cell_type": "code",
   "execution_count": 28,
   "id": "61ce0e7f-5d81-4a08-a357-de81212c2864",
   "metadata": {},
   "outputs": [
    {
     "data": {
      "image/png": "[encoded data removed]",
      "text/plain": [
       "<Figure size 640x480 with 1 Axes>"
      ]
     },
     "metadata": {},
     "output_type": "display_data"
    }
   ],
   "source": [
    "plt.hist(df['dayofweek'], bins=7,color='skyblue', edgecolor='black')\n",
    "plt.xlabel('day of week')\n",
    "plt.ylabel('Frequency')\n",
    "plt.title('Histogram')\n",
    " \n",
    "# Display the plot\n",
    "plt.show() "
   ]
  },
  {
   "cell_type": "code",
   "execution_count": 29,
   "id": "1de56dd8-d9f2-4d81-8834-ffc58d06f229",
   "metadata": {},
   "outputs": [
    {
     "data": {
      "text/plain": [
       "array([[<Axes: title={'center': 'age'}>]], dtype=object)"
      ]
     },
     "execution_count": 29,
     "metadata": {},
     "output_type": "execute_result"
    },
    {
     "data": {
      "image/png": "[encoded data removed]",
      "text/plain": [
       "<Figure size 640x480 with 1 Axes>"
      ]
     },
     "metadata": {},
     "output_type": "display_data"
    }
   ],
   "source": [
    "df.hist(column='age', bins = 40)"
   ]
  },
  {
   "cell_type": "code",
   "execution_count": 30,
   "id": "c88a9bbc-f8c8-4a60-bf93-949b6ef2aee2",
   "metadata": {},
   "outputs": [
    {
     "data": {
      "text/plain": [
       "array([[<Axes: title={'center': 'numscreens'}>]], dtype=object)"
      ]
     },
     "execution_count": 30,
     "metadata": {},
     "output_type": "execute_result"
    },
    {
     "data": {
      "image/png": "[encoded data removed]",
      "text/plain": [
       "<Figure size 640x480 with 1 Axes>"
      ]
     },
     "metadata": {},
     "output_type": "display_data"
    }
   ],
   "source": [
    "df.hist(column='numscreens', bins=20)"
   ]
  },
  {
   "cell_type": "markdown",
   "id": "9e5468b2-1321-43ae-8de2-327bc97eeb12",
   "metadata": {},
   "source": [
    "Q. What we observe\n",
    "\n",
    "HIstograms show where most of the customers fall as per the columns/features we are analyzing. In this analysis, three features are considered: day of the week, age, and number of screens.\n",
    "\n",
    "Day of the week: The majority of users interact with the app on weekdays 5 and 6, or on Saturday and Sunday, while the turnout on other days is relatively low.\n",
    "\n",
    "Age: The histogram indicates that the majority of users are younger, with usage declining as age increases (inversely proportional).\n",
    "\n",
    "Number of screens: The histogram reveals that most users interact with 0-20 screens (~25,000), with another significant category falling within the 20-40 screen range. However, very few customers exceed 40 screens."
   ]
  },
  {
   "cell_type": "markdown",
   "id": "4b5db77e-3add-4566-bf5b-f768fe434fd4",
   "metadata": {},
   "source": [
    "### Building Correlation Matrix to see how these vairables affect the Response"
   ]
  },
  {
   "cell_type": "code",
   "execution_count": 31,
   "id": "8086207f-bb71-4d4b-a57f-6f9b122863c0",
   "metadata": {},
   "outputs": [],
   "source": [
    "new_df2=df.drop(['user','first_open','screen_list'\n",
    "                ,'enrolled_date','enrolled'],axis=1)"
   ]
  },
  {
   "cell_type": "code",
   "execution_count": 32,
   "id": "81bce2e6-0e45-4c63-9767-9767097c7fb7",
   "metadata": {},
   "outputs": [
    {
     "data": {
      "text/plain": [
       "<Axes: title={'center': 'Correlation all features with enrolled '}>"
      ]
     },
     "execution_count": 32,
     "metadata": {},
     "output_type": "execute_result"
    },
    {
     "data": {
      "image/png": "[encoded data removed]",
      "text/plain": [
       "<Figure size 1000x800 with 1 Axes>"
      ]
     },
     "metadata": {},
     "output_type": "display_data"
    }
   ],
   "source": [
    "new_df2.corrwith(df.enrolled).plot.bar(figsize=(10,8),\n",
    "                  title = 'Correlation all features with enrolled ',\n",
    "                  fontsize = 12, rot = 45,\n",
    "                  grid = True)"
   ]
  },
  {
   "cell_type": "markdown",
   "id": "883dc283-6e3d-4da1-b804-90bc768f577e",
   "metadata": {},
   "source": [
    "Findings:\n",
    "\n",
    "1.Older people tend to sign up less.\n",
    "\n",
    "2.The more screens someone used, the more likely they are to sign up.\n",
    "\n",
    "3.People playing the mini-game tend to sign up, however it's a weak poositive correlation.\n",
    "\n",
    "4.People who use the app at earlier hours tend to sign up less, however it's a very weak naegative correlation.\n",
    "\n",
    "5.The more people use premium features, the less likely they are to enrol, however it's a very weak negative correlation.\n",
    "\n",
    "6.Whether users like a feature or not seems to have no correlation on whether they sign up or not.\n",
    "\n"
   ]
  },
  {
   "cell_type": "markdown",
   "id": "f61eac80-500a-4b3f-a6f3-f4f785fd876f",
   "metadata": {},
   "source": [
    "## Feature engineering"
   ]
  },
  {
   "cell_type": "markdown",
   "id": "926e49c8-6f94-43f6-94d8-f6b80d125d70",
   "metadata": {},
   "source": [
    "Feature engineering is the process of using domain knowledge to extract features from raw data via data mining techniques. These features can be used to improve the performance of machine learning algorithm. "
   ]
  },
  {
   "cell_type": "code",
   "execution_count": 33,
   "id": "f0cd9975-c0ce-493e-b2da-88ecaf1289f7",
   "metadata": {},
   "outputs": [],
   "source": [
    "# We need to convert first_open and enrolled_date to datetime's so we can calculate the difference in hours between them.\n",
    "\n",
    "df['enrolled_date'] = pd.to_datetime(df['enrolled_date'])\n",
    "df['first_open'] = pd.to_datetime(df['first_open'])"
   ]
  },
  {
   "cell_type": "code",
   "execution_count": 34,
   "id": "971dcebd-067e-4004-8de2-94cb76276d08",
   "metadata": {},
   "outputs": [
    {
     "data": {
      "text/plain": [
       "user                             int64\n",
       "first_open              datetime64[ns]\n",
       "dayofweek                        int64\n",
       "hour                             int32\n",
       "age                              int64\n",
       "screen_list                     object\n",
       "numscreens                       int64\n",
       "minigame                         int64\n",
       "used_premium_feature             int64\n",
       "enrolled                         int64\n",
       "enrolled_date           datetime64[ns]\n",
       "liked                            int64\n",
       "dtype: object"
      ]
     },
     "execution_count": 34,
     "metadata": {},
     "output_type": "execute_result"
    }
   ],
   "source": [
    "#Check for the datatypes\n",
    "df.dtypes"
   ]
  },
  {
   "cell_type": "code",
   "execution_count": 35,
   "id": "4e1260d9-6771-45ba-829b-e5e5d4af3f84",
   "metadata": {},
   "outputs": [],
   "source": [
    "#Calculate the difference in the two dates to give the result in hours\n",
    "df['time_to_enrolled'] = df['enrolled_date'] - df['first_open']"
   ]
  },
  {
   "cell_type": "code",
   "execution_count": 36,
   "id": "dea1546b-4f32-4f5e-8314-8e8f8ab6c21e",
   "metadata": {},
   "outputs": [
    {
     "data": {
      "text/plain": [
       "0             NaN\n",
       "1             NaN\n",
       "2             NaN\n",
       "3        0.050877\n",
       "4        0.096994\n",
       "           ...   \n",
       "49995    0.026390\n",
       "49996         NaN\n",
       "49997         NaN\n",
       "49998    0.042895\n",
       "49999         NaN\n",
       "Name: time_to_enrolled, Length: 50000, dtype: float64"
      ]
     },
     "execution_count": 36,
     "metadata": {},
     "output_type": "execute_result"
    }
   ],
   "source": [
    "df['time_to_enrolled'] = df['time_to_enrolled'].apply(lambda x: x.total_seconds()/(60*60))\n",
    "df['time_to_enrolled']"
   ]
  },
  {
   "cell_type": "code",
   "execution_count": 37,
   "id": "d5e42562-ffe6-4d62-8c23-0ac8aa961ab7",
   "metadata": {},
   "outputs": [
    {
     "data": {
      "text/html": [
       "<div>\n",
       "<style scoped>\n",
       "    .dataframe tbody tr th:only-of-type {\n",
       "        vertical-align: middle;\n",
       "    }\n",
       "\n",
       "    .dataframe tbody tr th {\n",
       "        vertical-align: top;\n",
       "    }\n",
       "\n",
       "    .dataframe thead th {\n",
       "        text-align: right;\n",
       "    }\n",
       "</style>\n",
       "<table border=\"1\" class=\"dataframe\">\n",
       "  <thead>\n",
       "    <tr style=\"text-align: right;\">\n",
       "      <th></th>\n",
       "      <th>user</th>\n",
       "      <th>first_open</th>\n",
       "      <th>dayofweek</th>\n",
       "      <th>hour</th>\n",
       "      <th>age</th>\n",
       "      <th>screen_list</th>\n",
       "      <th>numscreens</th>\n",
       "      <th>minigame</th>\n",
       "      <th>used_premium_feature</th>\n",
       "      <th>enrolled</th>\n",
       "      <th>enrolled_date</th>\n",
       "      <th>liked</th>\n",
       "      <th>time_to_enrolled</th>\n",
       "    </tr>\n",
       "  </thead>\n",
       "  <tbody>\n",
       "    <tr>\n",
       "      <th>0</th>\n",
       "      <td>235136</td>\n",
       "      <td>2012-12-27 02:14:51.273</td>\n",
       "      <td>3</td>\n",
       "      <td>2</td>\n",
       "      <td>23</td>\n",
       "      <td>idscreen,joinscreen,Cycle,product_review,ScanP...</td>\n",
       "      <td>15</td>\n",
       "      <td>0</td>\n",
       "      <td>0</td>\n",
       "      <td>0</td>\n",
       "      <td>NaT</td>\n",
       "      <td>0</td>\n",
       "      <td>NaN</td>\n",
       "    </tr>\n",
       "    <tr>\n",
       "      <th>1</th>\n",
       "      <td>333588</td>\n",
       "      <td>2012-12-02 01:16:00.905</td>\n",
       "      <td>6</td>\n",
       "      <td>1</td>\n",
       "      <td>24</td>\n",
       "      <td>joinscreen,product_review,product_review2,Scan...</td>\n",
       "      <td>13</td>\n",
       "      <td>0</td>\n",
       "      <td>0</td>\n",
       "      <td>0</td>\n",
       "      <td>NaT</td>\n",
       "      <td>0</td>\n",
       "      <td>NaN</td>\n",
       "    </tr>\n",
       "    <tr>\n",
       "      <th>2</th>\n",
       "      <td>254414</td>\n",
       "      <td>2013-03-19 19:19:09.157</td>\n",
       "      <td>1</td>\n",
       "      <td>19</td>\n",
       "      <td>23</td>\n",
       "      <td>Splash,Cycle,Loan</td>\n",
       "      <td>3</td>\n",
       "      <td>0</td>\n",
       "      <td>1</td>\n",
       "      <td>0</td>\n",
       "      <td>NaT</td>\n",
       "      <td>1</td>\n",
       "      <td>NaN</td>\n",
       "    </tr>\n",
       "    <tr>\n",
       "      <th>3</th>\n",
       "      <td>234192</td>\n",
       "      <td>2013-07-05 16:08:46.354</td>\n",
       "      <td>4</td>\n",
       "      <td>16</td>\n",
       "      <td>28</td>\n",
       "      <td>product_review,Home,product_review,Loan3,Finan...</td>\n",
       "      <td>40</td>\n",
       "      <td>0</td>\n",
       "      <td>0</td>\n",
       "      <td>1</td>\n",
       "      <td>2013-07-05 16:11:49.513</td>\n",
       "      <td>0</td>\n",
       "      <td>0.050877</td>\n",
       "    </tr>\n",
       "    <tr>\n",
       "      <th>4</th>\n",
       "      <td>51549</td>\n",
       "      <td>2013-02-26 18:50:48.661</td>\n",
       "      <td>1</td>\n",
       "      <td>18</td>\n",
       "      <td>31</td>\n",
       "      <td>idscreen,joinscreen,Cycle,Credit3Container,Sca...</td>\n",
       "      <td>32</td>\n",
       "      <td>0</td>\n",
       "      <td>0</td>\n",
       "      <td>1</td>\n",
       "      <td>2013-02-26 18:56:37.841</td>\n",
       "      <td>1</td>\n",
       "      <td>0.096994</td>\n",
       "    </tr>\n",
       "  </tbody>\n",
       "</table>\n",
       "</div>"
      ],
      "text/plain": [
       "     user              first_open  dayofweek  hour  age  \\\n",
       "0  235136 2012-12-27 02:14:51.273          3     2   23   \n",
       "1  333588 2012-12-02 01:16:00.905          6     1   24   \n",
       "2  254414 2013-03-19 19:19:09.157          1    19   23   \n",
       "3  234192 2013-07-05 16:08:46.354          4    16   28   \n",
       "4   51549 2013-02-26 18:50:48.661          1    18   31   \n",
       "\n",
       "                                         screen_list  numscreens  minigame  \\\n",
       "0  idscreen,joinscreen,Cycle,product_review,ScanP...          15         0   \n",
       "1  joinscreen,product_review,product_review2,Scan...          13         0   \n",
       "2                                  Splash,Cycle,Loan           3         0   \n",
       "3  product_review,Home,product_review,Loan3,Finan...          40         0   \n",
       "4  idscreen,joinscreen,Cycle,Credit3Container,Sca...          32         0   \n",
       "\n",
       "   used_premium_feature  enrolled           enrolled_date  liked  \\\n",
       "0                     0         0                     NaT      0   \n",
       "1                     0         0                     NaT      0   \n",
       "2                     1         0                     NaT      1   \n",
       "3                     0         1 2013-07-05 16:11:49.513      0   \n",
       "4                     0         1 2013-02-26 18:56:37.841      1   \n",
       "\n",
       "   time_to_enrolled  \n",
       "0               NaN  \n",
       "1               NaN  \n",
       "2               NaN  \n",
       "3          0.050877  \n",
       "4          0.096994  "
      ]
     },
     "execution_count": 37,
     "metadata": {},
     "output_type": "execute_result"
    }
   ],
   "source": [
    "df.head(5)"
   ]
  },
  {
   "cell_type": "code",
   "execution_count": 38,
   "id": "04fbd4cd-4d6d-48f5-a6fa-26d5334a3cd6",
   "metadata": {},
   "outputs": [
    {
     "data": {
      "image/png": "[encoded data removed]",
      "text/plain": [
       "<Figure size 640x480 with 1 Axes>"
      ]
     },
     "metadata": {},
     "output_type": "display_data"
    }
   ],
   "source": [
    "# Plot histogram of the difference variable\n",
    "plt.hist(df['time_to_enrolled'].dropna(), color ='#3F537D')\n",
    "plt.title('Distribution of time since enrolled')\n",
    "plt.show()"
   ]
  },
  {
   "cell_type": "markdown",
   "id": "0beb4657-b3e5-4c6d-bf8f-743e5e2b4e23",
   "metadata": {},
   "source": [
    "Q. Comment on the distribution?\n",
    "\n",
    "The distribution indicates that the majority of durations fall within a short range (0-450 hours), with approximately 25-30K entries. This suggests that most users enroll in the app within this timeframe after their initial usage.\n",
    "\n",
    "Q. Why are we using dropna() here\n",
    "\n",
    "The dropna() function removes all NAN values from the difference column. These NaN values occur when the enrollment date is null, as the difference is calculated as enroll - first open date. Therefore, if a customer has not enrolled, they will receive an NAN value in the difference field. Calculating a histogram for NAN values is not meaningful, so dropna() is used in the definition of the histogram."
   ]
  },
  {
   "cell_type": "code",
   "execution_count": 39,
   "id": "174ddcc6-f311-4c20-83be-d00b69e6a648",
   "metadata": {},
   "outputs": [
    {
     "data": {
      "image/png": "[encoded data removed]",
      "text/plain": [
       "<Figure size 640x480 with 1 Axes>"
      ]
     },
     "metadata": {},
     "output_type": "display_data"
    }
   ],
   "source": [
    "# PLot histogram for only the 48 hrs \n",
    "plt.hist(df['time_to_enrolled'].dropna(), color ='#3F537D', range =[0, 48])\n",
    "plt.title('Distribution of time since enrolled')\n",
    "plt.show()"
   ]
  },
  {
   "cell_type": "markdown",
   "id": "c54ad147-f1ce-4e94-b3c0-ca9fa0c14894",
   "metadata": {},
   "source": [
    "Q. Why are we using the range in histogram\n",
    "\n",
    "The histogram is filtered to include only customers who have enrolled within 48 hours of their first usage of the app. These customers are significant as they demonstrate a positive initial experience and prompt enrollment. Gathering feedback from these customers is crucial, as their experiences can inform strategies to attract more customers and enhance the app's functionality.\n",
    "\n",
    "Upon observing the plot, it is evident that the majority of users enroll within the first 20 hours. \n",
    "After allowing for a brief gap period, a cutoff time of 48 hours or 2 days is decided upon. \n",
    "Any individuals who enrolled after the initial 48 hours are then converted to 0.\n",
    "\n",
    "\n",
    "\n",
    "\n"
   ]
  },
  {
   "cell_type": "code",
   "execution_count": 40,
   "id": "cecb7e78-7631-45e9-bd2a-b894729abeaf",
   "metadata": {},
   "outputs": [],
   "source": [
    "df.loc[df.time_to_enrolled> 48, 'enrolled'] = 0"
   ]
  },
  {
   "cell_type": "markdown",
   "id": "83fb9e6d-4b2a-4c2d-9b8e-2caff19b024d",
   "metadata": {},
   "source": [
    "Q. What is the purpose of the above code\n",
    "\n",
    "\n",
    "In the above code, all rows where the difference exceeds 48 are being labeled as 0 in the enrolled field. Our analysis is focused solely on customers who enrolled within 48 hours of their initial app visit.\n",
    "\n",
    "\n",
    "\n",
    "\n"
   ]
  },
  {
   "cell_type": "code",
   "execution_count": 41,
   "id": "32606402-ac57-40f4-9b29-a65e1f88bef0",
   "metadata": {},
   "outputs": [
    {
     "name": "stdout",
     "output_type": "stream",
     "text": [
      "Not Enrolled Users= 25213 out of 50000\n",
      "Enrolled Users= 24787 out of 50000\n"
     ]
    }
   ],
   "source": [
    "print('Not Enrolled Users=',(df.enrolled <1).sum(),'out of 50000')\n",
    "print('Enrolled Users=',50000-(df.enrolled <1).sum(),'out of 50000')"
   ]
  },
  {
   "cell_type": "code",
   "execution_count": 42,
   "id": "3d4dcf7e-0eb6-4108-8fcc-0603c527bdd3",
   "metadata": {},
   "outputs": [],
   "source": [
    "# drop the difference, enrolled date and first open columns from the dataframe\n",
    "df.drop(columns=['time_to_enrolled', 'first_open', 'enrolled_date'], inplace=True)"
   ]
  },
  {
   "cell_type": "markdown",
   "id": "c38a7c20-9cc1-4a75-a30e-8447d970ab65",
   "metadata": {},
   "source": [
    "### Applying feature engineering on the screen_list\n",
    "We need to convert the comma-separated list of screens accessed into a format suitable for modeling.\n",
    "\n",
    "top_screens.csv is provided by the company and displays the top screen accessed by each user. We can utilize this to limit the number of columns generated to only those representing the top-accessed screens, thus reducing the number of features generated.\n",
    "\n",
    "Our goal is to create a set of dummy variables for the top screens. That is, if the user has accessed a particular top screen, it will be represented as 1; otherwise, it will be 0. Additionally, we will create an 'Other_screen' field to maintain a count of the other non-top screens they have accessed."
   ]
  },
  {
   "cell_type": "code",
   "execution_count": 43,
   "id": "9b3f8176-ba86-4959-941e-9e9aee6fa16d",
   "metadata": {},
   "outputs": [],
   "source": [
    "# Import the most popular screens (screens that the user visited in the first 24 hr. period)\n",
    "# only one column so convert to an array\n",
    "top_screens = pd.read_csv(\"top_screens.csv\").top_screens.values"
   ]
  },
  {
   "cell_type": "code",
   "execution_count": 44,
   "id": "904114eb-b30e-44dd-a67d-ecbd74df7747",
   "metadata": {},
   "outputs": [
    {
     "data": {
      "text/plain": [
       "array(['Loan2', 'location', 'Institutions', 'Credit3Container',\n",
       "       'VerifyPhone', 'BankVerification', 'VerifyDateOfBirth',\n",
       "       'ProfilePage', 'VerifyCountry', 'Cycle', 'idscreen',\n",
       "       'Credit3Dashboard', 'Loan3', 'CC1Category', 'Splash', 'Loan',\n",
       "       'CC1', 'RewardsContainer', 'Credit3', 'Credit1', 'EditProfile',\n",
       "       'Credit2', 'Finances', 'CC3', 'Saving9', 'Saving1', 'Alerts',\n",
       "       'Saving8', 'Saving10', 'Leaderboard', 'Saving4', 'VerifyMobile',\n",
       "       'VerifyHousing', 'RewardDetail', 'VerifyHousingAmount',\n",
       "       'ProfileMaritalStatus', 'ProfileChildren ', 'ProfileEducation',\n",
       "       'Saving7', 'ProfileEducationMajor', 'Rewards', 'AccountView',\n",
       "       'VerifyAnnualIncome', 'VerifyIncomeType', 'Saving2', 'Saving6',\n",
       "       'Saving2Amount', 'Saving5', 'ProfileJobTitle', 'Login',\n",
       "       'ProfileEmploymentLength', 'WebView', 'SecurityModal', 'Loan4',\n",
       "       'ResendToken', 'TransactionList', 'NetworkFailure', 'ListPicker'],\n",
       "      dtype=object)"
      ]
     },
     "execution_count": 44,
     "metadata": {},
     "output_type": "execute_result"
    }
   ],
   "source": [
    "top_screens"
   ]
  },
  {
   "cell_type": "code",
   "execution_count": 45,
   "id": "a4d3d87a-97eb-4788-88b6-b48969ebfbd9",
   "metadata": {},
   "outputs": [],
   "source": [
    "# Separate screens into the separate lists\n",
    "top_screens = list(map(lambda x: x.strip(),top_screens))"
   ]
  },
  {
   "cell_type": "code",
   "execution_count": 46,
   "id": "1bc6dd78-99d3-4aa5-b3ba-28bab4a895e5",
   "metadata": {},
   "outputs": [
    {
     "data": {
      "text/plain": [
       "['Loan2',\n",
       " 'location',\n",
       " 'Institutions',\n",
       " 'Credit3Container',\n",
       " 'VerifyPhone',\n",
       " 'BankVerification',\n",
       " 'VerifyDateOfBirth',\n",
       " 'ProfilePage',\n",
       " 'VerifyCountry',\n",
       " 'Cycle',\n",
       " 'idscreen',\n",
       " 'Credit3Dashboard',\n",
       " 'Loan3',\n",
       " 'CC1Category',\n",
       " 'Splash',\n",
       " 'Loan',\n",
       " 'CC1',\n",
       " 'RewardsContainer',\n",
       " 'Credit3',\n",
       " 'Credit1',\n",
       " 'EditProfile',\n",
       " 'Credit2',\n",
       " 'Finances',\n",
       " 'CC3',\n",
       " 'Saving9',\n",
       " 'Saving1',\n",
       " 'Alerts',\n",
       " 'Saving8',\n",
       " 'Saving10',\n",
       " 'Leaderboard',\n",
       " 'Saving4',\n",
       " 'VerifyMobile',\n",
       " 'VerifyHousing',\n",
       " 'RewardDetail',\n",
       " 'VerifyHousingAmount',\n",
       " 'ProfileMaritalStatus',\n",
       " 'ProfileChildren',\n",
       " 'ProfileEducation',\n",
       " 'Saving7',\n",
       " 'ProfileEducationMajor',\n",
       " 'Rewards',\n",
       " 'AccountView',\n",
       " 'VerifyAnnualIncome',\n",
       " 'VerifyIncomeType',\n",
       " 'Saving2',\n",
       " 'Saving6',\n",
       " 'Saving2Amount',\n",
       " 'Saving5',\n",
       " 'ProfileJobTitle',\n",
       " 'Login',\n",
       " 'ProfileEmploymentLength',\n",
       " 'WebView',\n",
       " 'SecurityModal',\n",
       " 'Loan4',\n",
       " 'ResendToken',\n",
       " 'TransactionList',\n",
       " 'NetworkFailure',\n",
       " 'ListPicker']"
      ]
     },
     "execution_count": 46,
     "metadata": {},
     "output_type": "execute_result"
    }
   ],
   "source": [
    "top_screens "
   ]
  },
  {
   "cell_type": "code",
   "execution_count": 47,
   "id": "caea188d-c3c9-4dff-b306-c79b4aebddd3",
   "metadata": {},
   "outputs": [],
   "source": [
    "\n",
    "# Map screens to fields. We are adding a , so that we can count the screens because there is always going to be 1 less , for all the screen names\n",
    "\n",
    "df['screen_list'] = df.screen_list.astype(str) + ','"
   ]
  },
  {
   "cell_type": "code",
   "execution_count": 48,
   "id": "a2b89019-1a5d-4c25-8f90-7db5cff8b19f",
   "metadata": {},
   "outputs": [
    {
     "data": {
      "text/plain": [
       "0        idscreen,joinscreen,Cycle,product_review,ScanP...\n",
       "1        joinscreen,product_review,product_review2,Scan...\n",
       "2                                       Splash,Cycle,Loan,\n",
       "3        product_review,Home,product_review,Loan3,Finan...\n",
       "4        idscreen,joinscreen,Cycle,Credit3Container,Sca...\n",
       "                               ...                        \n",
       "49995    Splash,Home,ScanPreview,VerifyPhone,VerifySSN,...\n",
       "49996                  Cycle,Splash,Home,RewardsContainer,\n",
       "49997    joinscreen,product_review,product_review2,Scan...\n",
       "49998    Cycle,Home,product_review,product_review,produ...\n",
       "49999    product_review,ScanPreview,VerifyDateOfBirth,V...\n",
       "Name: screen_list, Length: 50000, dtype: object"
      ]
     },
     "execution_count": 48,
     "metadata": {},
     "output_type": "execute_result"
    }
   ],
   "source": [
    "df['screen_list']"
   ]
  },
  {
   "cell_type": "code",
   "execution_count": 49,
   "id": "2ed289f7-a0ae-47eb-82f2-b5dd573b5d34",
   "metadata": {},
   "outputs": [],
   "source": [
    "#### Creating individual columns for the top screens\n",
    "for sc in top_screens:\n",
    "    df[sc] = df.screen_list.str.contains(sc).astype(int)\n",
    "    df['screen_list'] = df.screen_list.str.replace(sc + \",\", \"\")"
   ]
  },
  {
   "cell_type": "code",
   "execution_count": 50,
   "id": "38b0763d-7e06-4d65-b208-806b5954763a",
   "metadata": {},
   "outputs": [
    {
     "data": {
      "text/plain": [
       "Index(['user', 'dayofweek', 'hour', 'age', 'screen_list', 'numscreens',\n",
       "       'minigame', 'used_premium_feature', 'enrolled', 'liked', 'Loan2',\n",
       "       'location', 'Institutions', 'Credit3Container', 'VerifyPhone',\n",
       "       'BankVerification', 'VerifyDateOfBirth', 'ProfilePage', 'VerifyCountry',\n",
       "       'Cycle', 'idscreen', 'Credit3Dashboard', 'Loan3', 'CC1Category',\n",
       "       'Splash', 'Loan', 'CC1', 'RewardsContainer', 'Credit3', 'Credit1',\n",
       "       'EditProfile', 'Credit2', 'Finances', 'CC3', 'Saving9', 'Saving1',\n",
       "       'Alerts', 'Saving8', 'Saving10', 'Leaderboard', 'Saving4',\n",
       "       'VerifyMobile', 'VerifyHousing', 'RewardDetail', 'VerifyHousingAmount',\n",
       "       'ProfileMaritalStatus', 'ProfileChildren', 'ProfileEducation',\n",
       "       'Saving7', 'ProfileEducationMajor', 'Rewards', 'AccountView',\n",
       "       'VerifyAnnualIncome', 'VerifyIncomeType', 'Saving2', 'Saving6',\n",
       "       'Saving2Amount', 'Saving5', 'ProfileJobTitle', 'Login',\n",
       "       'ProfileEmploymentLength', 'WebView', 'SecurityModal', 'Loan4',\n",
       "       'ResendToken', 'TransactionList', 'NetworkFailure', 'ListPicker'],\n",
       "      dtype='object')"
      ]
     },
     "execution_count": 50,
     "metadata": {},
     "output_type": "execute_result"
    }
   ],
   "source": [
    "df.columns"
   ]
  },
  {
   "cell_type": "code",
   "execution_count": 51,
   "id": "fa0e3712-6720-437d-acb5-893067e21e8f",
   "metadata": {},
   "outputs": [
    {
     "data": {
      "text/plain": [
       "58"
      ]
     },
     "execution_count": 51,
     "metadata": {},
     "output_type": "execute_result"
    }
   ],
   "source": [
    "len(top_screens)"
   ]
  },
  {
   "cell_type": "code",
   "execution_count": 52,
   "id": "9599916d-368c-4039-aa6f-2d88c9433d2d",
   "metadata": {},
   "outputs": [
    {
     "data": {
      "text/plain": [
       "68"
      ]
     },
     "execution_count": 52,
     "metadata": {},
     "output_type": "execute_result"
    }
   ],
   "source": [
    "len(df.columns)"
   ]
  },
  {
   "cell_type": "markdown",
   "id": "25a24ae2-4236-433e-95c1-fc4df42a50c0",
   "metadata": {},
   "source": [
    "#### Adding a separate column for the unpopular screens"
   ]
  },
  {
   "cell_type": "code",
   "execution_count": 53,
   "id": "bc8133c5-2ca4-42c2-bc85-5a1aac107569",
   "metadata": {},
   "outputs": [],
   "source": [
    "df[\"other_screen\"] = df.screen_list.str.count(\",\")"
   ]
  },
  {
   "cell_type": "code",
   "execution_count": 54,
   "id": "ea5d558c-be3c-4f77-9b12-9bbeb98de5f8",
   "metadata": {},
   "outputs": [],
   "source": [
    "df.drop(columns=['screen_list'],inplace=True)"
   ]
  },
  {
   "cell_type": "code",
   "execution_count": 55,
   "id": "dd6ed78d-ae7b-4a29-8c7d-58c40cafbf50",
   "metadata": {},
   "outputs": [
    {
     "data": {
      "text/html": [
       "<div>\n",
       "<style scoped>\n",
       "    .dataframe tbody tr th:only-of-type {\n",
       "        vertical-align: middle;\n",
       "    }\n",
       "\n",
       "    .dataframe tbody tr th {\n",
       "        vertical-align: top;\n",
       "    }\n",
       "\n",
       "    .dataframe thead th {\n",
       "        text-align: right;\n",
       "    }\n",
       "</style>\n",
       "<table border=\"1\" class=\"dataframe\">\n",
       "  <thead>\n",
       "    <tr style=\"text-align: right;\">\n",
       "      <th></th>\n",
       "      <th>user</th>\n",
       "      <th>dayofweek</th>\n",
       "      <th>hour</th>\n",
       "      <th>age</th>\n",
       "      <th>numscreens</th>\n",
       "      <th>minigame</th>\n",
       "      <th>used_premium_feature</th>\n",
       "      <th>enrolled</th>\n",
       "      <th>liked</th>\n",
       "      <th>Loan2</th>\n",
       "      <th>...</th>\n",
       "      <th>Login</th>\n",
       "      <th>ProfileEmploymentLength</th>\n",
       "      <th>WebView</th>\n",
       "      <th>SecurityModal</th>\n",
       "      <th>Loan4</th>\n",
       "      <th>ResendToken</th>\n",
       "      <th>TransactionList</th>\n",
       "      <th>NetworkFailure</th>\n",
       "      <th>ListPicker</th>\n",
       "      <th>other_screen</th>\n",
       "    </tr>\n",
       "  </thead>\n",
       "  <tbody>\n",
       "    <tr>\n",
       "      <th>0</th>\n",
       "      <td>235136</td>\n",
       "      <td>3</td>\n",
       "      <td>2</td>\n",
       "      <td>23</td>\n",
       "      <td>15</td>\n",
       "      <td>0</td>\n",
       "      <td>0</td>\n",
       "      <td>0</td>\n",
       "      <td>0</td>\n",
       "      <td>1</td>\n",
       "      <td>...</td>\n",
       "      <td>1</td>\n",
       "      <td>0</td>\n",
       "      <td>0</td>\n",
       "      <td>0</td>\n",
       "      <td>0</td>\n",
       "      <td>0</td>\n",
       "      <td>0</td>\n",
       "      <td>0</td>\n",
       "      <td>0</td>\n",
       "      <td>7</td>\n",
       "    </tr>\n",
       "    <tr>\n",
       "      <th>1</th>\n",
       "      <td>333588</td>\n",
       "      <td>6</td>\n",
       "      <td>1</td>\n",
       "      <td>24</td>\n",
       "      <td>13</td>\n",
       "      <td>0</td>\n",
       "      <td>0</td>\n",
       "      <td>0</td>\n",
       "      <td>0</td>\n",
       "      <td>1</td>\n",
       "      <td>...</td>\n",
       "      <td>0</td>\n",
       "      <td>0</td>\n",
       "      <td>0</td>\n",
       "      <td>0</td>\n",
       "      <td>0</td>\n",
       "      <td>0</td>\n",
       "      <td>0</td>\n",
       "      <td>0</td>\n",
       "      <td>0</td>\n",
       "      <td>5</td>\n",
       "    </tr>\n",
       "    <tr>\n",
       "      <th>2</th>\n",
       "      <td>254414</td>\n",
       "      <td>1</td>\n",
       "      <td>19</td>\n",
       "      <td>23</td>\n",
       "      <td>3</td>\n",
       "      <td>0</td>\n",
       "      <td>1</td>\n",
       "      <td>0</td>\n",
       "      <td>1</td>\n",
       "      <td>0</td>\n",
       "      <td>...</td>\n",
       "      <td>0</td>\n",
       "      <td>0</td>\n",
       "      <td>0</td>\n",
       "      <td>0</td>\n",
       "      <td>0</td>\n",
       "      <td>0</td>\n",
       "      <td>0</td>\n",
       "      <td>0</td>\n",
       "      <td>0</td>\n",
       "      <td>0</td>\n",
       "    </tr>\n",
       "    <tr>\n",
       "      <th>3</th>\n",
       "      <td>234192</td>\n",
       "      <td>4</td>\n",
       "      <td>16</td>\n",
       "      <td>28</td>\n",
       "      <td>40</td>\n",
       "      <td>0</td>\n",
       "      <td>0</td>\n",
       "      <td>1</td>\n",
       "      <td>0</td>\n",
       "      <td>0</td>\n",
       "      <td>...</td>\n",
       "      <td>0</td>\n",
       "      <td>0</td>\n",
       "      <td>0</td>\n",
       "      <td>0</td>\n",
       "      <td>0</td>\n",
       "      <td>0</td>\n",
       "      <td>0</td>\n",
       "      <td>0</td>\n",
       "      <td>0</td>\n",
       "      <td>6</td>\n",
       "    </tr>\n",
       "    <tr>\n",
       "      <th>4</th>\n",
       "      <td>51549</td>\n",
       "      <td>1</td>\n",
       "      <td>18</td>\n",
       "      <td>31</td>\n",
       "      <td>32</td>\n",
       "      <td>0</td>\n",
       "      <td>0</td>\n",
       "      <td>1</td>\n",
       "      <td>1</td>\n",
       "      <td>1</td>\n",
       "      <td>...</td>\n",
       "      <td>0</td>\n",
       "      <td>0</td>\n",
       "      <td>0</td>\n",
       "      <td>0</td>\n",
       "      <td>0</td>\n",
       "      <td>0</td>\n",
       "      <td>0</td>\n",
       "      <td>0</td>\n",
       "      <td>0</td>\n",
       "      <td>10</td>\n",
       "    </tr>\n",
       "  </tbody>\n",
       "</table>\n",
       "<p>5 rows × 68 columns</p>\n",
       "</div>"
      ],
      "text/plain": [
       "     user  dayofweek  hour  age  numscreens  minigame  used_premium_feature  \\\n",
       "0  235136          3     2   23          15         0                     0   \n",
       "1  333588          6     1   24          13         0                     0   \n",
       "2  254414          1    19   23           3         0                     1   \n",
       "3  234192          4    16   28          40         0                     0   \n",
       "4   51549          1    18   31          32         0                     0   \n",
       "\n",
       "   enrolled  liked  Loan2  ...  Login  ProfileEmploymentLength  WebView  \\\n",
       "0         0      0      1  ...      1                        0        0   \n",
       "1         0      0      1  ...      0                        0        0   \n",
       "2         0      1      0  ...      0                        0        0   \n",
       "3         1      0      0  ...      0                        0        0   \n",
       "4         1      1      1  ...      0                        0        0   \n",
       "\n",
       "   SecurityModal  Loan4  ResendToken  TransactionList  NetworkFailure  \\\n",
       "0              0      0            0                0               0   \n",
       "1              0      0            0                0               0   \n",
       "2              0      0            0                0               0   \n",
       "3              0      0            0                0               0   \n",
       "4              0      0            0                0               0   \n",
       "\n",
       "   ListPicker  other_screen  \n",
       "0           0             7  \n",
       "1           0             5  \n",
       "2           0             0  \n",
       "3           0             6  \n",
       "4           0            10  \n",
       "\n",
       "[5 rows x 68 columns]"
      ]
     },
     "execution_count": 55,
     "metadata": {},
     "output_type": "execute_result"
    }
   ],
   "source": [
    "#Check\n",
    "df.head()"
   ]
  },
  {
   "cell_type": "markdown",
   "id": "052aeff7-f57f-4d1b-aa38-6487e789e5d1",
   "metadata": {},
   "source": [
    "### Creating funnels to remove columns which have high correlations amongest themselves.\n",
    "#### For eg, Savings1,Savings2, etc all come under the savings heading and have different columns.\n",
    "#### Due to this, they have high correlation in themselves.\n",
    "#### Thus, creating funnels to remove these columns"
   ]
  },
  {
   "cell_type": "markdown",
   "id": "c4f375e4-4a7c-4bb1-b835-fca5f0f5d48f",
   "metadata": {},
   "source": [
    "#### Savings Funnel"
   ]
  },
  {
   "cell_type": "code",
   "execution_count": 56,
   "id": "5183af77-a803-454a-8b17-8b05ec939d93",
   "metadata": {},
   "outputs": [],
   "source": [
    "savings_screens = [\"Saving1\",\n",
    "                    \"Saving2\",\n",
    "                    \"Saving2Amount\",\n",
    "                    \"Saving4\",\n",
    "                    \"Saving5\",\n",
    "                    \"Saving6\",\n",
    "                    \"Saving7\",\n",
    "                    \"Saving8\",\n",
    "                    \"Saving9\",\n",
    "                    \"Saving10\"]\n",
    "df[\"SavingCount\"] = df[savings_screens].sum(axis=1)\n",
    "df = df.drop(columns=savings_screens)"
   ]
  },
  {
   "cell_type": "markdown",
   "id": "8439a769-02a1-4e07-88e7-b1c5e5ca54b4",
   "metadata": {},
   "source": [
    "#### Credit funnel"
   ]
  },
  {
   "cell_type": "code",
   "execution_count": 57,
   "id": "3ea61272-2762-4622-9eec-408463b48306",
   "metadata": {},
   "outputs": [],
   "source": [
    "cm_screens = [\"Credit1\",\n",
    "               \"Credit2\",\n",
    "               \"Credit3\",\n",
    "               \"Credit3Container\",\n",
    "               \"Credit3Dashboard\"]\n",
    "df[\"CMCount\"] = df[cm_screens].sum(axis=1)\n",
    "df = df.drop(columns=cm_screens)"
   ]
  },
  {
   "cell_type": "markdown",
   "id": "6b2a082e-3c22-4000-87a4-134bf21e493b",
   "metadata": {},
   "source": [
    "#### Credit card funnel"
   ]
  },
  {
   "cell_type": "code",
   "execution_count": 58,
   "id": "f43f79dc-ec65-4b4a-b063-e7c4fa5b237f",
   "metadata": {},
   "outputs": [],
   "source": [
    "cradit_card_screens = [\"CC1\",\"CC1Category\",\"CC3\"]\n",
    "df[\"Cradit_Card_Count\"] = df[cradit_card_screens].sum(axis=1)\n",
    "df = df.drop(columns=cradit_card_screens)"
   ]
  },
  {
   "cell_type": "markdown",
   "id": "a4b4b77d-2a3a-4cdf-a559-e7813d8fceb7",
   "metadata": {},
   "source": [
    "#### Loans funnel"
   ]
  },
  {
   "cell_type": "code",
   "execution_count": 59,
   "id": "be2731fa-fbce-4ada-9e7d-0ec5a39adbc2",
   "metadata": {},
   "outputs": [],
   "source": [
    "loans_screens = [\"Loan\",\n",
    "               \"Loan2\",\n",
    "               \"Loan3\",\n",
    "               \"Loan4\"]\n",
    "df[\"Loans_Count\"] = df[loans_screens].sum(axis=1)\n",
    "df = df.drop(columns=loans_screens)"
   ]
  },
  {
   "cell_type": "markdown",
   "id": "359c9322-a380-4a72-b971-6453ed333a05",
   "metadata": {},
   "source": [
    "### Verify funnel"
   ]
  },
  {
   "cell_type": "code",
   "execution_count": 60,
   "id": "1607c4cc-107a-4d2a-8409-b8553337feab",
   "metadata": {},
   "outputs": [],
   "source": [
    "verify_screens = [\"VerifyPhone\",\n",
    "               \"BankVerification\",\n",
    "               \"VerifyDateOfBirth\",\n",
    "               \"VerifyCountry\",\"VerifyMobile\",\n",
    "               \"VerifyHousing\",\"VerifyHousingAmount\",\"VerifyAnnualIncome\" ,\"VerifyIncomeType\" ]\n",
    "df[\"verify_count\"] = df[verify_screens].sum(axis=1)\n",
    "df = df.drop(columns=verify_screens)"
   ]
  },
  {
   "cell_type": "markdown",
   "id": "eb89bec7-ffaa-4670-acc1-5ec111de6e78",
   "metadata": {},
   "source": [
    "### Profile Funnel"
   ]
  },
  {
   "cell_type": "code",
   "execution_count": 61,
   "id": "aacf75aa-c9a9-401f-bc70-df5b25a0c84d",
   "metadata": {},
   "outputs": [],
   "source": [
    "profile_screens = [\"ProfilePage\",\"EditProfile\",\"ProfileMaritalStatus\",\"ProfileChildren\",\"ProfileEducation\",\"ProfileEducationMajor\",\n",
    "               \"ProfileJobTitle\",\n",
    "               \"ProfileEmploymentLength\" ]\n",
    "df[\"profile_count\"] = df[profile_screens].sum(axis=1)\n",
    "df = df.drop(columns=profile_screens)"
   ]
  },
  {
   "cell_type": "code",
   "execution_count": 62,
   "id": "f8f9e226-2dd2-4e28-b031-ca17eb6c9b04",
   "metadata": {},
   "outputs": [
    {
     "data": {
      "text/plain": [
       "Index(['user', 'dayofweek', 'hour', 'age', 'numscreens', 'minigame',\n",
       "       'used_premium_feature', 'enrolled', 'liked', 'location', 'Institutions',\n",
       "       'Cycle', 'idscreen', 'Splash', 'RewardsContainer', 'Finances', 'Alerts',\n",
       "       'Leaderboard', 'RewardDetail', 'Rewards', 'AccountView', 'Login',\n",
       "       'WebView', 'SecurityModal', 'ResendToken', 'TransactionList',\n",
       "       'NetworkFailure', 'ListPicker', 'other_screen', 'SavingCount',\n",
       "       'CMCount', 'Cradit_Card_Count', 'Loans_Count', 'verify_count',\n",
       "       'profile_count'],\n",
       "      dtype='object')"
      ]
     },
     "execution_count": 62,
     "metadata": {},
     "output_type": "execute_result"
    }
   ],
   "source": [
    "#Check\n",
    "df.columns"
   ]
  },
  {
   "cell_type": "code",
   "execution_count": 63,
   "id": "a105a0ba-b02d-47aa-bce2-34893b92d87b",
   "metadata": {},
   "outputs": [
    {
     "data": {
      "text/html": [
       "<div>\n",
       "<style scoped>\n",
       "    .dataframe tbody tr th:only-of-type {\n",
       "        vertical-align: middle;\n",
       "    }\n",
       "\n",
       "    .dataframe tbody tr th {\n",
       "        vertical-align: top;\n",
       "    }\n",
       "\n",
       "    .dataframe thead th {\n",
       "        text-align: right;\n",
       "    }\n",
       "</style>\n",
       "<table border=\"1\" class=\"dataframe\">\n",
       "  <thead>\n",
       "    <tr style=\"text-align: right;\">\n",
       "      <th></th>\n",
       "      <th>user</th>\n",
       "      <th>dayofweek</th>\n",
       "      <th>hour</th>\n",
       "      <th>age</th>\n",
       "      <th>numscreens</th>\n",
       "      <th>minigame</th>\n",
       "      <th>used_premium_feature</th>\n",
       "      <th>enrolled</th>\n",
       "      <th>liked</th>\n",
       "      <th>location</th>\n",
       "      <th>...</th>\n",
       "      <th>TransactionList</th>\n",
       "      <th>NetworkFailure</th>\n",
       "      <th>ListPicker</th>\n",
       "      <th>other_screen</th>\n",
       "      <th>SavingCount</th>\n",
       "      <th>CMCount</th>\n",
       "      <th>Cradit_Card_Count</th>\n",
       "      <th>Loans_Count</th>\n",
       "      <th>verify_count</th>\n",
       "      <th>profile_count</th>\n",
       "    </tr>\n",
       "  </thead>\n",
       "  <tbody>\n",
       "    <tr>\n",
       "      <th>0</th>\n",
       "      <td>235136</td>\n",
       "      <td>3</td>\n",
       "      <td>2</td>\n",
       "      <td>23</td>\n",
       "      <td>15</td>\n",
       "      <td>0</td>\n",
       "      <td>0</td>\n",
       "      <td>0</td>\n",
       "      <td>0</td>\n",
       "      <td>0</td>\n",
       "      <td>...</td>\n",
       "      <td>0</td>\n",
       "      <td>0</td>\n",
       "      <td>0</td>\n",
       "      <td>7</td>\n",
       "      <td>0</td>\n",
       "      <td>0</td>\n",
       "      <td>0</td>\n",
       "      <td>1</td>\n",
       "      <td>2</td>\n",
       "      <td>0</td>\n",
       "    </tr>\n",
       "    <tr>\n",
       "      <th>1</th>\n",
       "      <td>333588</td>\n",
       "      <td>6</td>\n",
       "      <td>1</td>\n",
       "      <td>24</td>\n",
       "      <td>13</td>\n",
       "      <td>0</td>\n",
       "      <td>0</td>\n",
       "      <td>0</td>\n",
       "      <td>0</td>\n",
       "      <td>1</td>\n",
       "      <td>...</td>\n",
       "      <td>0</td>\n",
       "      <td>0</td>\n",
       "      <td>0</td>\n",
       "      <td>5</td>\n",
       "      <td>0</td>\n",
       "      <td>0</td>\n",
       "      <td>0</td>\n",
       "      <td>1</td>\n",
       "      <td>3</td>\n",
       "      <td>0</td>\n",
       "    </tr>\n",
       "  </tbody>\n",
       "</table>\n",
       "<p>2 rows × 35 columns</p>\n",
       "</div>"
      ],
      "text/plain": [
       "     user  dayofweek  hour  age  numscreens  minigame  used_premium_feature  \\\n",
       "0  235136          3     2   23          15         0                     0   \n",
       "1  333588          6     1   24          13         0                     0   \n",
       "\n",
       "   enrolled  liked  location  ...  TransactionList  NetworkFailure  \\\n",
       "0         0      0         0  ...                0               0   \n",
       "1         0      0         1  ...                0               0   \n",
       "\n",
       "   ListPicker  other_screen  SavingCount  CMCount  Cradit_Card_Count  \\\n",
       "0           0             7            0        0                  0   \n",
       "1           0             5            0        0                  0   \n",
       "\n",
       "   Loans_Count  verify_count  profile_count  \n",
       "0            1             2              0  \n",
       "1            1             3              0  \n",
       "\n",
       "[2 rows x 35 columns]"
      ]
     },
     "execution_count": 63,
     "metadata": {},
     "output_type": "execute_result"
    }
   ],
   "source": [
    "df.head(2)"
   ]
  },
  {
   "cell_type": "code",
   "execution_count": 64,
   "id": "691c9a51-e2ee-4296-bc72-0b36c43d04fc",
   "metadata": {},
   "outputs": [
    {
     "data": {
      "text/plain": [
       "35"
      ]
     },
     "execution_count": 64,
     "metadata": {},
     "output_type": "execute_result"
    }
   ],
   "source": [
    "len(df.columns)"
   ]
  },
  {
   "cell_type": "code",
   "execution_count": 65,
   "id": "84614cf4-19f7-434b-902b-94046a5752c6",
   "metadata": {},
   "outputs": [
    {
     "name": "stdout",
     "output_type": "stream",
     "text": [
      "<class 'pandas.core.frame.DataFrame'>\n",
      "RangeIndex: 50000 entries, 0 to 49999\n",
      "Data columns (total 35 columns):\n",
      " #   Column                Non-Null Count  Dtype\n",
      "---  ------                --------------  -----\n",
      " 0   user                  50000 non-null  int64\n",
      " 1   dayofweek             50000 non-null  int64\n",
      " 2   hour                  50000 non-null  int32\n",
      " 3   age                   50000 non-null  int64\n",
      " 4   numscreens            50000 non-null  int64\n",
      " 5   minigame              50000 non-null  int64\n",
      " 6   used_premium_feature  50000 non-null  int64\n",
      " 7   enrolled              50000 non-null  int64\n",
      " 8   liked                 50000 non-null  int64\n",
      " 9   location              50000 non-null  int32\n",
      " 10  Institutions          50000 non-null  int32\n",
      " 11  Cycle                 50000 non-null  int32\n",
      " 12  idscreen              50000 non-null  int32\n",
      " 13  Splash                50000 non-null  int32\n",
      " 14  RewardsContainer      50000 non-null  int32\n",
      " 15  Finances              50000 non-null  int32\n",
      " 16  Alerts                50000 non-null  int32\n",
      " 17  Leaderboard           50000 non-null  int32\n",
      " 18  RewardDetail          50000 non-null  int32\n",
      " 19  Rewards               50000 non-null  int32\n",
      " 20  AccountView           50000 non-null  int32\n",
      " 21  Login                 50000 non-null  int32\n",
      " 22  WebView               50000 non-null  int32\n",
      " 23  SecurityModal         50000 non-null  int32\n",
      " 24  ResendToken           50000 non-null  int32\n",
      " 25  TransactionList       50000 non-null  int32\n",
      " 26  NetworkFailure        50000 non-null  int32\n",
      " 27  ListPicker            50000 non-null  int32\n",
      " 28  other_screen          50000 non-null  int64\n",
      " 29  SavingCount           50000 non-null  int64\n",
      " 30  CMCount               50000 non-null  int64\n",
      " 31  Cradit_Card_Count     50000 non-null  int64\n",
      " 32  Loans_Count           50000 non-null  int64\n",
      " 33  verify_count          50000 non-null  int64\n",
      " 34  profile_count         50000 non-null  int64\n",
      "dtypes: int32(20), int64(15)\n",
      "memory usage: 9.5 MB\n"
     ]
    }
   ],
   "source": [
    "df.info()"
   ]
  },
  {
   "cell_type": "markdown",
   "id": "15f27a4e-f3ae-4fd1-9fec-7020cdb2da20",
   "metadata": {},
   "source": [
    "## Creating the Dependent and Independent variables"
   ]
  },
  {
   "cell_type": "code",
   "execution_count": 66,
   "id": "a098ca61-5acb-419e-8b96-954f7daf5a72",
   "metadata": {},
   "outputs": [],
   "source": [
    "X = df.drop(columns=\"enrolled\")\n",
    "y = df[\"enrolled\"]"
   ]
  },
  {
   "cell_type": "markdown",
   "id": "66d7b351-95a3-4d47-bd9d-fefad08926ae",
   "metadata": {},
   "source": [
    "## Creating the training and testing datasets\n",
    "We don't use the full dataset to create the model. Some data is randomly selected and set aside for evaluating the model's performance. This subset of data is referred to as the testing data, while the remaining data is used for training the model. Typically, 80% of the data is allocated for training, and the remaining 20% is reserved for testing"
   ]
  },
  {
   "cell_type": "code",
   "execution_count": 67,
   "id": "b09bd3f5-cd59-4c1e-b264-749917a7f74e",
   "metadata": {},
   "outputs": [],
   "source": [
    "from sklearn.model_selection import train_test_split\n",
    "X_train, X_test, y_train, y_test = train_test_split(X, y,\n",
    "                                                    test_size = 0.2,\n",
    "                                                    random_state = 24)"
   ]
  },
  {
   "cell_type": "code",
   "execution_count": 68,
   "id": "c4121520-27e4-46ed-b760-7dbc91dd1172",
   "metadata": {},
   "outputs": [
    {
     "name": "stdout",
     "output_type": "stream",
     "text": [
      "Shape of X_train =  (40000, 34)\n",
      "Shape of X_test =  (10000, 34)\n",
      "Shape of y_train =  (40000,)\n",
      "Shape of y_test =  (10000,)\n"
     ]
    }
   ],
   "source": [
    "print('Shape of X_train = ', X_train.shape)\n",
    "print('Shape of X_test = ', X_test.shape)\n",
    "print('Shape of y_train = ', y_train.shape)\n",
    "print('Shape of y_test = ', y_test.shape)"
   ]
  },
  {
   "cell_type": "markdown",
   "id": "7ebd5f69-c626-42a1-ba9e-e01bcacbfe2b",
   "metadata": {},
   "source": [
    "## Saving and then deleting user ids"
   ]
  },
  {
   "cell_type": "code",
   "execution_count": 69,
   "id": "93d6b09b-1c3e-4960-9dcf-18ac6585cd10",
   "metadata": {},
   "outputs": [],
   "source": [
    "train_identity = X_train['user']\n",
    "X_train = X_train.drop(columns = ['user'])\n",
    "test_identity = X_test['user']\n",
    "X_test = X_test.drop(columns = ['user'])"
   ]
  },
  {
   "cell_type": "markdown",
   "id": "06f7b36f-ae14-422e-8910-701eb5bb1699",
   "metadata": {},
   "source": [
    "## Feature Scaling\n",
    "To ensure the highest accuracy, it's essential to convert all features into the same unit, especially when they are measured in different units. However, we cannot directly apply StandardScaler to the train and test sets because it returns a np.array. As a result, it loses the column names and the index, which are necessary for matching the data to users. Therefore, we must use an alternative method to maintain the index while scaling the data.\n"
   ]
  },
  {
   "cell_type": "code",
   "execution_count": 70,
   "id": "e06d03f7-4ddd-46b8-a3bd-d66ebcef5766",
   "metadata": {},
   "outputs": [],
   "source": [
    "from sklearn.preprocessing import StandardScaler\n",
    "sc = StandardScaler()\n",
    "X_train_sc = pd.DataFrame(sc.fit_transform(X_train), columns=X_train.columns.values, index=X_train.index.values)\n",
    "X_test_sc = pd.DataFrame(sc.transform(X_test), columns=X_test.columns.values, index=X_test.index.values) "
   ]
  },
  {
   "cell_type": "markdown",
   "id": "d5319dc0-4abe-4075-ac25-dba8a7f25459",
   "metadata": {},
   "source": [
    "## Machine Learning Model Building\n",
    "To build the best model, we need to train and test the dataset using multiple machine learning algorithms to identify the most effective one. Let's proceed with this approach.\n",
    "First, we import the required packages"
   ]
  },
  {
   "cell_type": "code",
   "execution_count": 71,
   "id": "184712f6-55e5-4975-8465-b59bd74cf53b",
   "metadata": {},
   "outputs": [],
   "source": [
    "from sklearn.metrics import confusion_matrix, classification_report, accuracy_score"
   ]
  },
  {
   "cell_type": "markdown",
   "id": "80617ae0-e3cc-4ef1-b869-fc8dd6cda76a",
   "metadata": {},
   "source": [
    "## Decision Tree"
   ]
  },
  {
   "cell_type": "code",
   "execution_count": 72,
   "id": "978613a0-57f0-46c2-938e-b81da9455d79",
   "metadata": {},
   "outputs": [
    {
     "data": {
      "text/plain": [
       "69.5"
      ]
     },
     "execution_count": 72,
     "metadata": {},
     "output_type": "execute_result"
    }
   ],
   "source": [
    "# Decision Tree Classifier\n",
    "from sklearn.tree import DecisionTreeClassifier\n",
    "model_t = DecisionTreeClassifier(criterion= 'entropy', random_state=24)\n",
    "model_t.fit(X_train, y_train)\n",
    "y_pred_t = model_t.predict(X_test)\n",
    "accuracy_score(y_test, y_pred_t)*100"
   ]
  },
  {
   "cell_type": "code",
   "execution_count": 73,
   "id": "426851cf-abf2-458c-9a81-35521bcc3b9c",
   "metadata": {},
   "outputs": [
    {
     "data": {
      "text/plain": [
       "69.56"
      ]
     },
     "execution_count": 73,
     "metadata": {},
     "output_type": "execute_result"
    }
   ],
   "source": [
    "# train with Standert Scaling dataset\n",
    "model_t = DecisionTreeClassifier(criterion= 'entropy', random_state=24)\n",
    "model_t.fit(X_train_sc, y_train)\n",
    "y_pred_t_sc =model_t.predict(X_test_sc)\n",
    "\n",
    "accuracy_score(y_test, y_pred_t_sc)*100"
   ]
  },
  {
   "cell_type": "markdown",
   "id": "7c4ce869-de45-4bfc-8186-2fb095e4b578",
   "metadata": {},
   "source": [
    "## K – Nearest Neighbor "
   ]
  },
  {
   "cell_type": "code",
   "execution_count": 74,
   "id": "97c0a010-862d-4765-bc1e-b7c9cdaa51f5",
   "metadata": {},
   "outputs": [
    {
     "data": {
      "text/plain": [
       "69.86"
      ]
     },
     "execution_count": 74,
     "metadata": {},
     "output_type": "execute_result"
    }
   ],
   "source": [
    "from sklearn.neighbors import KNeighborsClassifier\n",
    "knn_model = KNeighborsClassifier(n_neighbors=5, metric='minkowski', p=2,)\n",
    "knn_model.fit(X_train, y_train)\n",
    "y_pred_knn = knn_model.predict(X_test)\n",
    "\n",
    "accuracy_score(y_test, y_pred_knn)*100"
   ]
  },
  {
   "cell_type": "code",
   "execution_count": 75,
   "id": "dd2c8705-e524-4f53-acaa-294f27b869ff",
   "metadata": {},
   "outputs": [
    {
     "data": {
      "text/plain": [
       "71.93"
      ]
     },
     "execution_count": 75,
     "metadata": {},
     "output_type": "execute_result"
    }
   ],
   "source": [
    "# train with Standert Scaling dataset\n",
    "knn_model2 = KNeighborsClassifier(n_neighbors=5, metric='minkowski', p=2,)\n",
    "knn_model2.fit(X_train_sc, y_train)\n",
    "y_pred_knn_sc = knn_model2.predict(X_test_sc)\n",
    "accuracy_score(y_test, y_pred_knn_sc)*100"
   ]
  },
  {
   "cell_type": "markdown",
   "id": "1cac8b2f-7e4a-491a-b171-96eb2837d8c8",
   "metadata": {},
   "source": [
    "## Random Forest"
   ]
  },
  {
   "cell_type": "code",
   "execution_count": 76,
   "id": "815da6fb-f19d-423b-aff3-d086a945995a",
   "metadata": {},
   "outputs": [
    {
     "data": {
      "text/plain": [
       "75.62"
      ]
     },
     "execution_count": 76,
     "metadata": {},
     "output_type": "execute_result"
    }
   ],
   "source": [
    "# Random Forest Classifier\n",
    "from sklearn.ensemble import RandomForestClassifier\n",
    "rf_model = RandomForestClassifier(n_estimators=10, criterion='entropy', random_state=24)\n",
    "rf_model.fit(X_train, y_train)\n",
    "y_pred_rf = rf_model.predict(X_test)\n",
    "accuracy_score(y_test, y_pred_rf)*100"
   ]
  },
  {
   "cell_type": "code",
   "execution_count": 77,
   "id": "008fcbb8-017f-41dd-92d9-ccb9eb656a08",
   "metadata": {},
   "outputs": [
    {
     "data": {
      "text/plain": [
       "75.56"
      ]
     },
     "execution_count": 77,
     "metadata": {},
     "output_type": "execute_result"
    }
   ],
   "source": [
    "# train with Standert Scaling dataset\n",
    "rf_model2 = RandomForestClassifier(n_estimators=10, criterion='entropy', random_state=24)\n",
    "rf_model2.fit(X_train_sc, y_train)\n",
    "y_pred_rf_sc = rf_model2.predict(X_test_sc)\n",
    "\n",
    "accuracy_score(y_test, y_pred_rf_sc)*100"
   ]
  },
  {
   "cell_type": "markdown",
   "id": "6a84b282-06c5-4801-a9ad-89c37394706e",
   "metadata": {},
   "source": [
    "## Model: Logistic Regression\n",
    "The screens might be mutually correlated. Thus, we use l1 to prevent it."
   ]
  },
  {
   "cell_type": "code",
   "execution_count": 78,
   "id": "fa8a7a59-c5ab-49c9-9941-e369e488ae2f",
   "metadata": {},
   "outputs": [
    {
     "data": {
      "text/html": [
       "<style>#sk-container-id-1 {color: black;background-color: white;}#sk-container-id-1 pre{padding: 0;}#sk-container-id-1 div.sk-toggleable {background-color: white;}#sk-container-id-1 label.sk-toggleable__label {cursor: pointer;display: block;width: 100%;margin-bottom: 0;padding: 0.3em;box-sizing: border-box;text-align: center;}#sk-container-id-1 label.sk-toggleable__label-arrow:before {content: \"▸\";float: left;margin-right: 0.25em;color: #696969;}#sk-container-id-1 label.sk-toggleable__label-arrow:hover:before {color: black;}#sk-container-id-1 div.sk-estimator:hover label.sk-toggleable__label-arrow:before {color: black;}#sk-container-id-1 div.sk-toggleable__content {max-height: 0;max-width: 0;overflow: hidden;text-align: left;background-color: #f0f8ff;}#sk-container-id-1 div.sk-toggleable__content pre {margin: 0.2em;color: black;border-radius: 0.25em;background-color: #f0f8ff;}#sk-container-id-1 input.sk-toggleable__control:checked~div.sk-toggleable__content {max-height: 200px;max-width: 100%;overflow: auto;}#sk-container-id-1 input.sk-toggleable__control:checked~label.sk-toggleable__label-arrow:before {content: \"▾\";}#sk-container-id-1 div.sk-estimator input.sk-toggleable__control:checked~label.sk-toggleable__label {background-color: #d4ebff;}#sk-container-id-1 div.sk-label input.sk-toggleable__control:checked~label.sk-toggleable__label {background-color: #d4ebff;}#sk-container-id-1 input.sk-hidden--visually {border: 0;clip: rect(1px 1px 1px 1px);clip: rect(1px, 1px, 1px, 1px);height: 1px;margin: -1px;overflow: hidden;padding: 0;position: absolute;width: 1px;}#sk-container-id-1 div.sk-estimator {font-family: monospace;background-color: #f0f8ff;border: 1px dotted black;border-radius: 0.25em;box-sizing: border-box;margin-bottom: 0.5em;}#sk-container-id-1 div.sk-estimator:hover {background-color: #d4ebff;}#sk-container-id-1 div.sk-parallel-item::after {content: \"\";width: 100%;border-bottom: 1px solid gray;flex-grow: 1;}#sk-container-id-1 div.sk-label:hover label.sk-toggleable__label {background-color: #d4ebff;}#sk-container-id-1 div.sk-serial::before {content: \"\";position: absolute;border-left: 1px solid gray;box-sizing: border-box;top: 0;bottom: 0;left: 50%;z-index: 0;}#sk-container-id-1 div.sk-serial {display: flex;flex-direction: column;align-items: center;background-color: white;padding-right: 0.2em;padding-left: 0.2em;position: relative;}#sk-container-id-1 div.sk-item {position: relative;z-index: 1;}#sk-container-id-1 div.sk-parallel {display: flex;align-items: stretch;justify-content: center;background-color: white;position: relative;}#sk-container-id-1 div.sk-item::before, #sk-container-id-1 div.sk-parallel-item::before {content: \"\";position: absolute;border-left: 1px solid gray;box-sizing: border-box;top: 0;bottom: 0;left: 50%;z-index: -1;}#sk-container-id-1 div.sk-parallel-item {display: flex;flex-direction: column;z-index: 1;position: relative;background-color: white;}#sk-container-id-1 div.sk-parallel-item:first-child::after {align-self: flex-end;width: 50%;}#sk-container-id-1 div.sk-parallel-item:last-child::after {align-self: flex-start;width: 50%;}#sk-container-id-1 div.sk-parallel-item:only-child::after {width: 0;}#sk-container-id-1 div.sk-dashed-wrapped {border: 1px dashed gray;margin: 0 0.4em 0.5em 0.4em;box-sizing: border-box;padding-bottom: 0.4em;background-color: white;}#sk-container-id-1 div.sk-label label {font-family: monospace;font-weight: bold;display: inline-block;line-height: 1.2em;}#sk-container-id-1 div.sk-label-container {text-align: center;}#sk-container-id-1 div.sk-container {/* jupyter's `normalize.less` sets `[hidden] { display: none; }` but bootstrap.min.css set `[hidden] { display: none !important; }` so we also need the `!important` here to be able to override the default hidden behavior on the sphinx rendered scikit-learn.org. See: https://github.com/scikit-learn/scikit-learn/issues/21755 */display: inline-block !important;position: relative;}#sk-container-id-1 div.sk-text-repr-fallback {display: none;}</style><div id=\"sk-container-id-1\" class=\"sk-top-container\"><div class=\"sk-text-repr-fallback\"><pre>LogisticRegression(C=0.01, penalty=&#x27;l1&#x27;, random_state=24, solver=&#x27;liblinear&#x27;)</pre><b>In a Jupyter environment, please rerun this cell to show the HTML representation or trust the notebook. <br />On GitHub, the HTML representation is unable to render, please try loading this page with nbviewer.org.</b></div><div class=\"sk-container\" hidden><div class=\"sk-item\"><div class=\"sk-estimator sk-toggleable\"><input class=\"sk-toggleable__control sk-hidden--visually\" id=\"sk-estimator-id-1\" type=\"checkbox\" checked><label for=\"sk-estimator-id-1\" class=\"sk-toggleable__label sk-toggleable__label-arrow\">LogisticRegression</label><div class=\"sk-toggleable__content\"><pre>LogisticRegression(C=0.01, penalty=&#x27;l1&#x27;, random_state=24, solver=&#x27;liblinear&#x27;)</pre></div></div></div></div></div>"
      ],
      "text/plain": [
       "LogisticRegression(C=0.01, penalty='l1', random_state=24, solver='liblinear')"
      ]
     },
     "execution_count": 78,
     "metadata": {},
     "output_type": "execute_result"
    }
   ],
   "source": [
    "# Logistic Regression\n",
    "from sklearn.linear_model import LogisticRegression\n",
    "lr_model = LogisticRegression(random_state=24, penalty='l1',C=0.01,solver='liblinear')\n",
    "lr_model.fit(X_train, y_train)\n",
    "\n"
   ]
  },
  {
   "cell_type": "markdown",
   "id": "f9fc3a65-0ddb-40e0-a8b2-71d3c655f937",
   "metadata": {},
   "source": [
    "### Making predictions"
   ]
  },
  {
   "cell_type": "code",
   "execution_count": 79,
   "id": "106d34e7-8cf6-4a88-9631-d4dad773f51d",
   "metadata": {},
   "outputs": [],
   "source": [
    "y_pred = lr_model.predict(X_test)"
   ]
  },
  {
   "cell_type": "markdown",
   "id": "0baa2cc9-8a23-410b-b8af-01a8f0491d09",
   "metadata": {},
   "source": [
    "### Checking the results"
   ]
  },
  {
   "cell_type": "code",
   "execution_count": 80,
   "id": "31512342-1cfd-4dc1-9aba-a901022553bc",
   "metadata": {},
   "outputs": [],
   "source": [
    "from sklearn.metrics import confusion_matrix, accuracy_score, f1_score, precision_score, recall_score,ConfusionMatrixDisplay\n",
    "cm = confusion_matrix(y_test, y_pred)\n",
    "acc = accuracy_score(y_test, y_pred)*100\n",
    "precision = precision_score(y_test, y_pred) \n",
    "recall = recall_score(y_test, y_pred) \n",
    "f1 = f1_score(y_test, y_pred)"
   ]
  },
  {
   "cell_type": "code",
   "execution_count": 81,
   "id": "b57d3696-cda8-4cbb-aa5d-8561a379afc6",
   "metadata": {},
   "outputs": [
    {
     "name": "stdout",
     "output_type": "stream",
     "text": [
      "Accuracy: 75.6\n",
      "Precision:  0.7512\n",
      "Recall_score: 0.7564\n",
      "f1_score: 0.7538\n"
     ]
    }
   ],
   "source": [
    "print('Accuracy:',acc)\n",
    "print('Precision: ',round(precision,4))\n",
    "print('Recall_score:',round(recall,4))\n",
    "print('f1_score:',round(f1,4))"
   ]
  },
  {
   "cell_type": "code",
   "execution_count": 82,
   "id": "bc33af47-db93-4b8f-8b89-7fb16cd4b626",
   "metadata": {},
   "outputs": [
    {
     "data": {
      "text/plain": [
       "array([[3825, 1237],\n",
       "       [1203, 3735]], dtype=int64)"
      ]
     },
     "execution_count": 82,
     "metadata": {},
     "output_type": "execute_result"
    }
   ],
   "source": [
    "#Checking the confusion matrix\n",
    "cm"
   ]
  },
  {
   "cell_type": "code",
   "execution_count": 83,
   "id": "7e076d89-f457-4795-9829-6865aa8d31ca",
   "metadata": {},
   "outputs": [
    {
     "data": {
      "image/png": "[encoded data removed]",
      "text/plain": [
       "<Figure size 640x480 with 2 Axes>"
      ]
     },
     "metadata": {},
     "output_type": "display_data"
    }
   ],
   "source": [
    "# Create a Comfusion matrix visually\n",
    "disp=ConfusionMatrixDisplay(confusion_matrix=cm,display_labels=lr_model.classes_)\n",
    "disp.plot()\n",
    "plt.show()"
   ]
  },
  {
   "cell_type": "markdown",
   "id": "fb08478e-f884-4562-bf20-2a5e9c4a0e9e",
   "metadata": {},
   "source": [
    "### Logistic Regression with Standert Scaling dataset"
   ]
  },
  {
   "cell_type": "code",
   "execution_count": 84,
   "id": "64e313db-06fd-4b73-9ca9-7fb71fc53d1d",
   "metadata": {},
   "outputs": [
    {
     "data": {
      "text/html": [
       "<style>#sk-container-id-2 {color: black;background-color: white;}#sk-container-id-2 pre{padding: 0;}#sk-container-id-2 div.sk-toggleable {background-color: white;}#sk-container-id-2 label.sk-toggleable__label {cursor: pointer;display: block;width: 100%;margin-bottom: 0;padding: 0.3em;box-sizing: border-box;text-align: center;}#sk-container-id-2 label.sk-toggleable__label-arrow:before {content: \"▸\";float: left;margin-right: 0.25em;color: #696969;}#sk-container-id-2 label.sk-toggleable__label-arrow:hover:before {color: black;}#sk-container-id-2 div.sk-estimator:hover label.sk-toggleable__label-arrow:before {color: black;}#sk-container-id-2 div.sk-toggleable__content {max-height: 0;max-width: 0;overflow: hidden;text-align: left;background-color: #f0f8ff;}#sk-container-id-2 div.sk-toggleable__content pre {margin: 0.2em;color: black;border-radius: 0.25em;background-color: #f0f8ff;}#sk-container-id-2 input.sk-toggleable__control:checked~div.sk-toggleable__content {max-height: 200px;max-width: 100%;overflow: auto;}#sk-container-id-2 input.sk-toggleable__control:checked~label.sk-toggleable__label-arrow:before {content: \"▾\";}#sk-container-id-2 div.sk-estimator input.sk-toggleable__control:checked~label.sk-toggleable__label {background-color: #d4ebff;}#sk-container-id-2 div.sk-label input.sk-toggleable__control:checked~label.sk-toggleable__label {background-color: #d4ebff;}#sk-container-id-2 input.sk-hidden--visually {border: 0;clip: rect(1px 1px 1px 1px);clip: rect(1px, 1px, 1px, 1px);height: 1px;margin: -1px;overflow: hidden;padding: 0;position: absolute;width: 1px;}#sk-container-id-2 div.sk-estimator {font-family: monospace;background-color: #f0f8ff;border: 1px dotted black;border-radius: 0.25em;box-sizing: border-box;margin-bottom: 0.5em;}#sk-container-id-2 div.sk-estimator:hover {background-color: #d4ebff;}#sk-container-id-2 div.sk-parallel-item::after {content: \"\";width: 100%;border-bottom: 1px solid gray;flex-grow: 1;}#sk-container-id-2 div.sk-label:hover label.sk-toggleable__label {background-color: #d4ebff;}#sk-container-id-2 div.sk-serial::before {content: \"\";position: absolute;border-left: 1px solid gray;box-sizing: border-box;top: 0;bottom: 0;left: 50%;z-index: 0;}#sk-container-id-2 div.sk-serial {display: flex;flex-direction: column;align-items: center;background-color: white;padding-right: 0.2em;padding-left: 0.2em;position: relative;}#sk-container-id-2 div.sk-item {position: relative;z-index: 1;}#sk-container-id-2 div.sk-parallel {display: flex;align-items: stretch;justify-content: center;background-color: white;position: relative;}#sk-container-id-2 div.sk-item::before, #sk-container-id-2 div.sk-parallel-item::before {content: \"\";position: absolute;border-left: 1px solid gray;box-sizing: border-box;top: 0;bottom: 0;left: 50%;z-index: -1;}#sk-container-id-2 div.sk-parallel-item {display: flex;flex-direction: column;z-index: 1;position: relative;background-color: white;}#sk-container-id-2 div.sk-parallel-item:first-child::after {align-self: flex-end;width: 50%;}#sk-container-id-2 div.sk-parallel-item:last-child::after {align-self: flex-start;width: 50%;}#sk-container-id-2 div.sk-parallel-item:only-child::after {width: 0;}#sk-container-id-2 div.sk-dashed-wrapped {border: 1px dashed gray;margin: 0 0.4em 0.5em 0.4em;box-sizing: border-box;padding-bottom: 0.4em;background-color: white;}#sk-container-id-2 div.sk-label label {font-family: monospace;font-weight: bold;display: inline-block;line-height: 1.2em;}#sk-container-id-2 div.sk-label-container {text-align: center;}#sk-container-id-2 div.sk-container {/* jupyter's `normalize.less` sets `[hidden] { display: none; }` but bootstrap.min.css set `[hidden] { display: none !important; }` so we also need the `!important` here to be able to override the default hidden behavior on the sphinx rendered scikit-learn.org. See: https://github.com/scikit-learn/scikit-learn/issues/21755 */display: inline-block !important;position: relative;}#sk-container-id-2 div.sk-text-repr-fallback {display: none;}</style><div id=\"sk-container-id-2\" class=\"sk-top-container\"><div class=\"sk-text-repr-fallback\"><pre>LogisticRegression(C=0.01, penalty=&#x27;l1&#x27;, random_state=24, solver=&#x27;liblinear&#x27;)</pre><b>In a Jupyter environment, please rerun this cell to show the HTML representation or trust the notebook. <br />On GitHub, the HTML representation is unable to render, please try loading this page with nbviewer.org.</b></div><div class=\"sk-container\" hidden><div class=\"sk-item\"><div class=\"sk-estimator sk-toggleable\"><input class=\"sk-toggleable__control sk-hidden--visually\" id=\"sk-estimator-id-2\" type=\"checkbox\" checked><label for=\"sk-estimator-id-2\" class=\"sk-toggleable__label sk-toggleable__label-arrow\">LogisticRegression</label><div class=\"sk-toggleable__content\"><pre>LogisticRegression(C=0.01, penalty=&#x27;l1&#x27;, random_state=24, solver=&#x27;liblinear&#x27;)</pre></div></div></div></div></div>"
      ],
      "text/plain": [
       "LogisticRegression(C=0.01, penalty='l1', random_state=24, solver='liblinear')"
      ]
     },
     "execution_count": 84,
     "metadata": {},
     "output_type": "execute_result"
    }
   ],
   "source": [
    "\n",
    "lr_model = LogisticRegression(random_state=24, penalty='l1',C=0.01,solver='liblinear')\n",
    "lr_model.fit(X_train_sc, y_train)"
   ]
  },
  {
   "cell_type": "markdown",
   "id": "30a1ad19-9ff3-4281-8772-cb8d2f575f46",
   "metadata": {},
   "source": [
    "### Making predictions"
   ]
  },
  {
   "cell_type": "code",
   "execution_count": 85,
   "id": "4eb32998-dd6c-4f33-a139-5effc815e411",
   "metadata": {},
   "outputs": [],
   "source": [
    "y_pred_n_sc =lr_model.predict(X_test)"
   ]
  },
  {
   "cell_type": "markdown",
   "id": "cbbef00d-deda-4cf0-b317-f62cd0af643d",
   "metadata": {},
   "source": [
    "### Checking the results"
   ]
  },
  {
   "cell_type": "code",
   "execution_count": 86,
   "id": "e10c4f2b-f2a6-40b4-bd6d-78a41354768b",
   "metadata": {},
   "outputs": [],
   "source": [
    "cm = confusion_matrix(y_test, y_pred_n_sc)\n",
    "acc = accuracy_score(y_test, y_pred_n_sc)*100\n",
    "precision = precision_score(y_test, y_pred_n_sc) \n",
    "recall = recall_score(y_test, y_pred_n_sc) \n",
    "f1 = f1_score(y_test, y_pred_n_sc)"
   ]
  },
  {
   "cell_type": "code",
   "execution_count": 87,
   "id": "70fa112c-b571-4785-b721-3ca11a518d6a",
   "metadata": {},
   "outputs": [
    {
     "name": "stdout",
     "output_type": "stream",
     "text": [
      "Accuracy: 70.95\n",
      "Precision:  0.7243\n",
      "Recall_score: 0.6646\n",
      "f1_score: 0.6932\n"
     ]
    },
    {
     "data": {
      "text/plain": [
       "array([[3813, 1249],\n",
       "       [1656, 3282]], dtype=int64)"
      ]
     },
     "execution_count": 87,
     "metadata": {},
     "output_type": "execute_result"
    }
   ],
   "source": [
    "print('Accuracy:',acc)\n",
    "print('Precision: ',round(precision,4))\n",
    "print('Recall_score:',round(recall,4))\n",
    "print('f1_score:',round(f1,4))\n",
    "cm"
   ]
  },
  {
   "cell_type": "markdown",
   "id": "8500bb48-a788-4bd8-8312-193c82850d0e",
   "metadata": {},
   "source": [
    "## Improving the model by using Parameter Tuning(Grid Search)"
   ]
  },
  {
   "cell_type": "code",
   "execution_count": 88,
   "id": "2b0cf58c-6a82-4bf0-924b-154da4fb1e88",
   "metadata": {},
   "outputs": [
    {
     "name": "stdout",
     "output_type": "stream",
     "text": [
      "Best Accuracy: 75.53 %\n",
      "Best Parameters: {'C': 0.1, 'penalty': 'l1'}\n"
     ]
    }
   ],
   "source": [
    "from sklearn.model_selection import GridSearchCV\n",
    "C = [0.001,0.01,0.1,0.5, 0.9, 1, 2, 5, 10, 100, 1000]\n",
    "penalty = ['l1','l2']\n",
    "parameters = dict(C = C,penalty = penalty)\n",
    "grid_search = GridSearchCV(estimator = lr_model,\n",
    "                           param_grid = parameters,\n",
    "                           scoring = 'accuracy',\n",
    "                           cv = 10,\n",
    "                           n_jobs = -1)\n",
    "grid_search = grid_search.fit(X_train, y_train)\n",
    "best_accuracy = grid_search.best_score_\n",
    "best_parameters = grid_search.best_params_\n",
    "print(\"Best Accuracy: {:.2f} %\".format(best_accuracy*100))\n",
    "print(\"Best Parameters:\", best_parameters)"
   ]
  },
  {
   "cell_type": "markdown",
   "id": "e14dd817-cbca-454e-a3e3-fefa110db9d7",
   "metadata": {},
   "source": [
    "## Improving model by using tuned parameters"
   ]
  },
  {
   "cell_type": "code",
   "execution_count": 89,
   "id": "3554d4cb-ad38-4f56-ae53-db1e0673bf0a",
   "metadata": {},
   "outputs": [
    {
     "data": {
      "text/html": [
       "<style>#sk-container-id-3 {color: black;background-color: white;}#sk-container-id-3 pre{padding: 0;}#sk-container-id-3 div.sk-toggleable {background-color: white;}#sk-container-id-3 label.sk-toggleable__label {cursor: pointer;display: block;width: 100%;margin-bottom: 0;padding: 0.3em;box-sizing: border-box;text-align: center;}#sk-container-id-3 label.sk-toggleable__label-arrow:before {content: \"▸\";float: left;margin-right: 0.25em;color: #696969;}#sk-container-id-3 label.sk-toggleable__label-arrow:hover:before {color: black;}#sk-container-id-3 div.sk-estimator:hover label.sk-toggleable__label-arrow:before {color: black;}#sk-container-id-3 div.sk-toggleable__content {max-height: 0;max-width: 0;overflow: hidden;text-align: left;background-color: #f0f8ff;}#sk-container-id-3 div.sk-toggleable__content pre {margin: 0.2em;color: black;border-radius: 0.25em;background-color: #f0f8ff;}#sk-container-id-3 input.sk-toggleable__control:checked~div.sk-toggleable__content {max-height: 200px;max-width: 100%;overflow: auto;}#sk-container-id-3 input.sk-toggleable__control:checked~label.sk-toggleable__label-arrow:before {content: \"▾\";}#sk-container-id-3 div.sk-estimator input.sk-toggleable__control:checked~label.sk-toggleable__label {background-color: #d4ebff;}#sk-container-id-3 div.sk-label input.sk-toggleable__control:checked~label.sk-toggleable__label {background-color: #d4ebff;}#sk-container-id-3 input.sk-hidden--visually {border: 0;clip: rect(1px 1px 1px 1px);clip: rect(1px, 1px, 1px, 1px);height: 1px;margin: -1px;overflow: hidden;padding: 0;position: absolute;width: 1px;}#sk-container-id-3 div.sk-estimator {font-family: monospace;background-color: #f0f8ff;border: 1px dotted black;border-radius: 0.25em;box-sizing: border-box;margin-bottom: 0.5em;}#sk-container-id-3 div.sk-estimator:hover {background-color: #d4ebff;}#sk-container-id-3 div.sk-parallel-item::after {content: \"\";width: 100%;border-bottom: 1px solid gray;flex-grow: 1;}#sk-container-id-3 div.sk-label:hover label.sk-toggleable__label {background-color: #d4ebff;}#sk-container-id-3 div.sk-serial::before {content: \"\";position: absolute;border-left: 1px solid gray;box-sizing: border-box;top: 0;bottom: 0;left: 50%;z-index: 0;}#sk-container-id-3 div.sk-serial {display: flex;flex-direction: column;align-items: center;background-color: white;padding-right: 0.2em;padding-left: 0.2em;position: relative;}#sk-container-id-3 div.sk-item {position: relative;z-index: 1;}#sk-container-id-3 div.sk-parallel {display: flex;align-items: stretch;justify-content: center;background-color: white;position: relative;}#sk-container-id-3 div.sk-item::before, #sk-container-id-3 div.sk-parallel-item::before {content: \"\";position: absolute;border-left: 1px solid gray;box-sizing: border-box;top: 0;bottom: 0;left: 50%;z-index: -1;}#sk-container-id-3 div.sk-parallel-item {display: flex;flex-direction: column;z-index: 1;position: relative;background-color: white;}#sk-container-id-3 div.sk-parallel-item:first-child::after {align-self: flex-end;width: 50%;}#sk-container-id-3 div.sk-parallel-item:last-child::after {align-self: flex-start;width: 50%;}#sk-container-id-3 div.sk-parallel-item:only-child::after {width: 0;}#sk-container-id-3 div.sk-dashed-wrapped {border: 1px dashed gray;margin: 0 0.4em 0.5em 0.4em;box-sizing: border-box;padding-bottom: 0.4em;background-color: white;}#sk-container-id-3 div.sk-label label {font-family: monospace;font-weight: bold;display: inline-block;line-height: 1.2em;}#sk-container-id-3 div.sk-label-container {text-align: center;}#sk-container-id-3 div.sk-container {/* jupyter's `normalize.less` sets `[hidden] { display: none; }` but bootstrap.min.css set `[hidden] { display: none !important; }` so we also need the `!important` here to be able to override the default hidden behavior on the sphinx rendered scikit-learn.org. See: https://github.com/scikit-learn/scikit-learn/issues/21755 */display: inline-block !important;position: relative;}#sk-container-id-3 div.sk-text-repr-fallback {display: none;}</style><div id=\"sk-container-id-3\" class=\"sk-top-container\"><div class=\"sk-text-repr-fallback\"><pre>LogisticRegression(C=0.1, penalty=&#x27;l1&#x27;, random_state=24, solver=&#x27;liblinear&#x27;)</pre><b>In a Jupyter environment, please rerun this cell to show the HTML representation or trust the notebook. <br />On GitHub, the HTML representation is unable to render, please try loading this page with nbviewer.org.</b></div><div class=\"sk-container\" hidden><div class=\"sk-item\"><div class=\"sk-estimator sk-toggleable\"><input class=\"sk-toggleable__control sk-hidden--visually\" id=\"sk-estimator-id-3\" type=\"checkbox\" checked><label for=\"sk-estimator-id-3\" class=\"sk-toggleable__label sk-toggleable__label-arrow\">LogisticRegression</label><div class=\"sk-toggleable__content\"><pre>LogisticRegression(C=0.1, penalty=&#x27;l1&#x27;, random_state=24, solver=&#x27;liblinear&#x27;)</pre></div></div></div></div></div>"
      ],
      "text/plain": [
       "LogisticRegression(C=0.1, penalty='l1', random_state=24, solver='liblinear')"
      ]
     },
     "execution_count": 89,
     "metadata": {},
     "output_type": "execute_result"
    }
   ],
   "source": [
    "from sklearn.linear_model import LogisticRegression\n",
    "lr_model = LogisticRegression(random_state = 24, penalty = 'l1', C=0.1,solver='liblinear')\n",
    "lr_model.fit(X_train, y_train)"
   ]
  },
  {
   "cell_type": "markdown",
   "id": "8a3b6bba-af1d-4e5c-9141-1fc57d42a8f2",
   "metadata": {},
   "source": [
    "## Making predictions\n"
   ]
  },
  {
   "cell_type": "code",
   "execution_count": 90,
   "id": "9b71917d-692c-483f-88bd-1ccd8ff3a484",
   "metadata": {},
   "outputs": [],
   "source": [
    "y_pred_n =lr_model.predict(X_test)"
   ]
  },
  {
   "cell_type": "markdown",
   "id": "e2541b86-af5f-42ab-a558-60e8a592bc8a",
   "metadata": {},
   "source": [
    "## Checking results"
   ]
  },
  {
   "cell_type": "code",
   "execution_count": 91,
   "id": "045250ba-4c2e-43a2-99ff-e18ec5114612",
   "metadata": {},
   "outputs": [],
   "source": [
    "cm = confusion_matrix(y_test, y_pred_n)\n",
    "acc = accuracy_score(y_test, y_pred_n)*100\n",
    "precision = precision_score(y_test, y_pred_n) \n",
    "recall = recall_score(y_test, y_pred_n) \n",
    "f1 = f1_score(y_test, y_pred_n)"
   ]
  },
  {
   "cell_type": "code",
   "execution_count": 92,
   "id": "bf4d7315-edc0-4e42-9345-cc58ded0ccb3",
   "metadata": {},
   "outputs": [
    {
     "name": "stdout",
     "output_type": "stream",
     "text": [
      "Accuracy: 75.97\n",
      "Precision:  0.7568\n",
      "Recall_score: 0.7564\n",
      "f1_score: 0.7566\n"
     ]
    },
    {
     "data": {
      "text/plain": [
       "array([[3862, 1200],\n",
       "       [1203, 3735]], dtype=int64)"
      ]
     },
     "execution_count": 92,
     "metadata": {},
     "output_type": "execute_result"
    }
   ],
   "source": [
    "print('Accuracy:',acc)\n",
    "print('Precision: ',round(precision,4))\n",
    "print('Recall_score:',round(recall,4))\n",
    "print('f1_score:',round(f1,4))\n",
    "cm"
   ]
  },
  {
   "cell_type": "markdown",
   "id": "92a0fed6-164a-4b89-bfec-2353a1953b97",
   "metadata": {},
   "source": [
    "### XGBoost Classifier"
   ]
  },
  {
   "cell_type": "code",
   "execution_count": 93,
   "id": "6f329024-44df-4ead-bf29-6b1156268864",
   "metadata": {},
   "outputs": [
    {
     "data": {
      "text/plain": [
       "77.38000000000001"
      ]
     },
     "execution_count": 93,
     "metadata": {},
     "output_type": "execute_result"
    }
   ],
   "source": [
    "\n",
    "from xgboost import XGBClassifier\n",
    "xgb_model = XGBClassifier()\n",
    "xgb_model.fit(X_train, y_train)\n",
    "y_pred_xgb = xgb_model.predict(X_test)\n",
    "\n",
    "accuracy_score(y_test, y_pred_xgb)*100"
   ]
  },
  {
   "cell_type": "markdown",
   "id": "a7f04575-00f3-4299-a2ec-5a47c7f7c368",
   "metadata": {},
   "source": [
    "### XGBoost Classifier with parameter tuning"
   ]
  },
  {
   "cell_type": "code",
   "execution_count": 94,
   "id": "43283da8-b415-4af7-98f8-f52748779f93",
   "metadata": {},
   "outputs": [
    {
     "data": {
      "text/plain": [
       "77.83"
      ]
     },
     "execution_count": 94,
     "metadata": {},
     "output_type": "execute_result"
    }
   ],
   "source": [
    "\n",
    "xgb_model_p = XGBClassifier(\n",
    " learning_rate =0.01,\n",
    " n_estimators=5000,\n",
    " max_depth=4,\n",
    " min_child_weight=6,\n",
    " seed=27)\n",
    "\n",
    "xgb_model_p.fit(X_train, y_train)\n",
    "y_pred_xgb_p = xgb_model_p.predict(X_test)\n",
    "\n",
    "accuracy_score(y_test, y_pred_xgb_p)*100"
   ]
  },
  {
   "cell_type": "markdown",
   "id": "9dacbbb0-ace8-4ace-8fde-7a7d2fd6abaa",
   "metadata": {},
   "source": [
    "### XGBOOST Classifier with Standert Scaling dataset"
   ]
  },
  {
   "cell_type": "code",
   "execution_count": 95,
   "id": "a185a96b-20a9-4977-89c9-6763a32557d7",
   "metadata": {},
   "outputs": [
    {
     "data": {
      "text/plain": [
       "77.83"
      ]
     },
     "execution_count": 95,
     "metadata": {},
     "output_type": "execute_result"
    }
   ],
   "source": [
    "# XGB classifier with parameter tuning\n",
    "xgb_model_p2 = XGBClassifier(\n",
    " learning_rate =0.01,\n",
    " n_estimators=5000,\n",
    " max_depth=4,\n",
    " min_child_weight=6,\n",
    " seed=27)\n",
    "\n",
    "xgb_model_p2.fit(X_train_sc, y_train)\n",
    "y_pred_xgb_sc_p2 = xgb_model_p2.predict(X_test_sc)\n",
    "\n",
    "accuracy_score(y_test, y_pred_xgb_sc_p2)*100"
   ]
  },
  {
   "cell_type": "code",
   "execution_count": 96,
   "id": "039efad5-b6e4-4360-9927-177e0ee697d9",
   "metadata": {},
   "outputs": [
    {
     "data": {
      "image/png": "[encoded data removed]",
      "text/plain": [
       "<Figure size 640x480 with 2 Axes>"
      ]
     },
     "metadata": {},
     "output_type": "display_data"
    }
   ],
   "source": [
    "# Create a Comfusion matrix visually\n",
    "disp_xg=ConfusionMatrixDisplay(confusion_matrix=cm,display_labels=xgb_model_p.classes_)\n",
    "disp_xg.plot()\n",
    "plt.show()"
   ]
  },
  {
   "cell_type": "code",
   "execution_count": 97,
   "id": "9a321d66-7672-4368-9f75-810b2ef476e7",
   "metadata": {},
   "outputs": [
    {
     "name": "stdout",
     "output_type": "stream",
     "text": [
      "Classification report >>> \n",
      "               precision    recall  f1-score   support\n",
      "\n",
      "           0       0.77      0.80      0.79      5062\n",
      "           1       0.79      0.75      0.77      4938\n",
      "\n",
      "    accuracy                           0.78     10000\n",
      "   macro avg       0.78      0.78      0.78     10000\n",
      "weighted avg       0.78      0.78      0.78     10000\n",
      "\n"
     ]
    }
   ],
   "source": [
    "# Clasification Report\n",
    "cr_xgb_p = classification_report(y_test, y_pred_xgb_p)\n",
    "print(\"Classification report >>> \\n\", cr_xgb_p)"
   ]
  },
  {
   "cell_type": "markdown",
   "id": "10c6e349-7788-4a44-953e-4b6563329daf",
   "metadata": {},
   "source": [
    "## Presenting Final Results"
   ]
  },
  {
   "cell_type": "code",
   "execution_count": 98,
   "id": "9a7dcdbc-000e-464c-9706-cb45bb6c43ce",
   "metadata": {},
   "outputs": [
    {
     "data": {
      "text/html": [
       "<div>\n",
       "<style scoped>\n",
       "    .dataframe tbody tr th:only-of-type {\n",
       "        vertical-align: middle;\n",
       "    }\n",
       "\n",
       "    .dataframe tbody tr th {\n",
       "        vertical-align: top;\n",
       "    }\n",
       "\n",
       "    .dataframe thead th {\n",
       "        text-align: right;\n",
       "    }\n",
       "</style>\n",
       "<table border=\"1\" class=\"dataframe\">\n",
       "  <thead>\n",
       "    <tr style=\"text-align: right;\">\n",
       "      <th></th>\n",
       "      <th>user</th>\n",
       "      <th>enrolled</th>\n",
       "      <th>predicted result</th>\n",
       "    </tr>\n",
       "  </thead>\n",
       "  <tbody>\n",
       "    <tr>\n",
       "      <th>11022</th>\n",
       "      <td>181591</td>\n",
       "      <td>0</td>\n",
       "      <td>0</td>\n",
       "    </tr>\n",
       "    <tr>\n",
       "      <th>7940</th>\n",
       "      <td>327670</td>\n",
       "      <td>1</td>\n",
       "      <td>1</td>\n",
       "    </tr>\n",
       "    <tr>\n",
       "      <th>30599</th>\n",
       "      <td>278248</td>\n",
       "      <td>1</td>\n",
       "      <td>1</td>\n",
       "    </tr>\n",
       "    <tr>\n",
       "      <th>12942</th>\n",
       "      <td>310218</td>\n",
       "      <td>0</td>\n",
       "      <td>0</td>\n",
       "    </tr>\n",
       "    <tr>\n",
       "      <th>32515</th>\n",
       "      <td>245735</td>\n",
       "      <td>1</td>\n",
       "      <td>1</td>\n",
       "    </tr>\n",
       "    <tr>\n",
       "      <th>...</th>\n",
       "      <td>...</td>\n",
       "      <td>...</td>\n",
       "      <td>...</td>\n",
       "    </tr>\n",
       "    <tr>\n",
       "      <th>25599</th>\n",
       "      <td>93054</td>\n",
       "      <td>0</td>\n",
       "      <td>0</td>\n",
       "    </tr>\n",
       "    <tr>\n",
       "      <th>5165</th>\n",
       "      <td>34474</td>\n",
       "      <td>0</td>\n",
       "      <td>0</td>\n",
       "    </tr>\n",
       "    <tr>\n",
       "      <th>10231</th>\n",
       "      <td>208707</td>\n",
       "      <td>1</td>\n",
       "      <td>1</td>\n",
       "    </tr>\n",
       "    <tr>\n",
       "      <th>13642</th>\n",
       "      <td>48220</td>\n",
       "      <td>0</td>\n",
       "      <td>0</td>\n",
       "    </tr>\n",
       "    <tr>\n",
       "      <th>535</th>\n",
       "      <td>116822</td>\n",
       "      <td>1</td>\n",
       "      <td>0</td>\n",
       "    </tr>\n",
       "  </tbody>\n",
       "</table>\n",
       "<p>10000 rows × 3 columns</p>\n",
       "</div>"
      ],
      "text/plain": [
       "         user  enrolled  predicted result\n",
       "11022  181591         0                 0\n",
       "7940   327670         1                 1\n",
       "30599  278248         1                 1\n",
       "12942  310218         0                 0\n",
       "32515  245735         1                 1\n",
       "...       ...       ...               ...\n",
       "25599   93054         0                 0\n",
       "5165    34474         0                 0\n",
       "10231  208707         1                 1\n",
       "13642   48220         0                 0\n",
       "535    116822         1                 0\n",
       "\n",
       "[10000 rows x 3 columns]"
      ]
     },
     "execution_count": 98,
     "metadata": {},
     "output_type": "execute_result"
    }
   ],
   "source": [
    "final_result = pd.concat([test_identity , y_test], axis = 1)\n",
    "final_result['predicted result'] = y_pred_xgb_p\n",
    "\n",
    "final_result"
   ]
  },
  {
   "cell_type": "markdown",
   "id": "ba447933-6419-4baa-9a94-dc51fa435c52",
   "metadata": {},
   "source": [
    "## Save the Model\n",
    "After completing the machine learning project or building the ML model, it needs to be deployed in an application. To deploy the ML model, it must first be saved. We can use either the pickle or joblib package to save the machine learning project.\n",
    "\n",
    "\n",
    "\n",
    "\n"
   ]
  },
  {
   "cell_type": "markdown",
   "id": "a49cef00-a858-48e0-93ca-b200d41bc51a",
   "metadata": {},
   "source": [
    "## Pickle"
   ]
  },
  {
   "cell_type": "code",
   "execution_count": 99,
   "id": "81db58b5-bda9-4558-a323-74ecdc04f591",
   "metadata": {},
   "outputs": [
    {
     "name": "stdout",
     "output_type": "stream",
     "text": [
      "Confussion matrix = \n",
      " [[4064  998]\n",
      " [1219 3719]]\n",
      "Accuracy of model =  77.83\n"
     ]
    }
   ],
   "source": [
    "\n",
    "import pickle\n",
    "\n",
    "# save model\n",
    "pickle.dump(xgb_model_p, open('ML_model.pickle', 'wb'))\n",
    "\n",
    "# load model\n",
    "ml_model_pl = pickle.load(open('ML_model.pickle', 'rb'))\n",
    "\n",
    "# predict the output\n",
    "y_pred_pl = ml_model_pl.predict(X_test)\n",
    "\n",
    "# confusion matrix\n",
    "cm_pl = confusion_matrix(y_test, y_pred_pl)\n",
    "print('Confussion matrix = \\n', cm_pl)\n",
    "\n",
    "# show the accuracy\n",
    "print(\"Accuracy of model = \",accuracy_score(y_test, y_pred_pl)*100)"
   ]
  },
  {
   "cell_type": "markdown",
   "id": "be9ef177-8202-40bc-b314-4a6aa8e9bed0",
   "metadata": {},
   "source": [
    "## Conclusion\n",
    "\n",
    "XGBoost provides the highest predictive power for classifying individuals, achieving an accuracy of 77.8%.\n",
    "The model identifies users who are likely to subscribe and those who are not. The company can offer special incentives, such as a 50% discount on yearly subscriptions, to convert users classified by the model as unlikely to enroll. This approach can be profitable for the company. Additionally, the model can be implemented on a daily basis, allowing for instant offers to be sent to users."
   ]
  }
 ],
 "metadata": {
  "kernelspec": {
   "display_name": "Python 3 (ipykernel)",
   "language": "python",
   "name": "python3"
  },
  "language_info": {
   "codemirror_mode": {
    "name": "ipython",
    "version": 3
   },
   "file_extension": ".py",
   "mimetype": "text/x-python",
   "name": "python",
   "nbconvert_exporter": "python",
   "pygments_lexer": "ipython3",
   "version": "3.10.9"
  }
 },
 "nbformat": 4,
 "nbformat_minor": 5
}
